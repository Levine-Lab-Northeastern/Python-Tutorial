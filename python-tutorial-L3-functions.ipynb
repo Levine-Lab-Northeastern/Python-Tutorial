{
 "cells": [
  {
   "cell_type": "markdown",
   "metadata": {},
   "source": [
    "## Module 3: Functions"
   ]
  },
  {
   "cell_type": "markdown",
   "metadata": {},
   "source": [
    "The simplest way to organize your code is to define any well-defined unit of logic as a separate function. This is particularly - but not exclusively - true for things you might use multiple times in the code.\n",
    "\n",
    "Python functions are defined using the `def` keyword. For example:"
   ]
  },
  {
   "cell_type": "code",
   "execution_count": 1,
   "metadata": {},
   "outputs": [
    {
     "name": "stdout",
     "output_type": "stream",
     "text": [
      "negative\n",
      "zero\n",
      "positive\n"
     ]
    }
   ],
   "source": [
    "def sign(x):\n",
    "    if x > 0:\n",
    "        return 'positive'\n",
    "    elif x < 0:\n",
    "        return 'negative'\n",
    "    else:\n",
    "        return 'zero'\n",
    "\n",
    "for x in [-1, 0, 1]:\n",
    "    print (sign(x))"
   ]
  },
  {
   "cell_type": "markdown",
   "metadata": {},
   "source": [
    "You will notice that the `def` call has two important elements: the name of the function (here sign) and the arguments the function takes (here just x, but you could add more as we'll see in a second). Functions usually return some value, which you indicate with the `return` keyword. It is important to note that once the function arrives at a `return` statement it stops running and returns the indicated value."
   ]
  },
  {
   "cell_type": "code",
   "execution_count": 2,
   "metadata": {},
   "outputs": [
    {
     "name": "stdout",
     "output_type": "stream",
     "text": [
      "True\n"
     ]
    }
   ],
   "source": [
    "def lame_function():\n",
    "    return True\n",
    "    print ('This function will not get to this line, because it stops at the first return')\n",
    "    return False\n",
    "\n",
    "print(lame_function())"
   ]
  },
  {
   "cell_type": "markdown",
   "metadata": {},
   "source": [
    "Note that this latter function did not take any argument. A function with multiple arguments looks like this:"
   ]
  },
  {
   "cell_type": "code",
   "execution_count": 3,
   "metadata": {},
   "outputs": [
    {
     "name": "stdout",
     "output_type": "stream",
     "text": [
      "12\t6.908000000000001\n"
     ]
    }
   ],
   "source": [
    "def times(x,y):\n",
    "    return x*y\n",
    "\n",
    "print (times(3,4) , times(3.14,2.2), sep='\\t')"
   ]
  },
  {
   "cell_type": "markdown",
   "metadata": {},
   "source": [
    "You can make some of the arguments optional, if you assign them a default value:"
   ]
  },
  {
   "cell_type": "code",
   "execution_count": 4,
   "metadata": {},
   "outputs": [
    {
     "name": "stdout",
     "output_type": "stream",
     "text": [
      "Hello, Bob\n",
      "HELLO, DR. CRICK\n",
      "HELLO, FRED\n"
     ]
    }
   ],
   "source": [
    "def hello(name, salutation = '', loud=False):\n",
    "    if loud:\n",
    "        print ('HELLO, '+ salutation.upper() + name.upper())\n",
    "    else:\n",
    "        print ('Hello, '+ salutation + name)\n",
    "\n",
    "hello('Bob')\n",
    "hello('Crick', 'Dr. ', True)\n",
    "hello('Fred', loud=True)"
   ]
  },
  {
   "cell_type": "markdown",
   "metadata": {},
   "source": [
    "In the last line we had to use the name of the argument 'loud', so Python would know that we are skipping the 2nd argument. "
   ]
  },
  {
   "cell_type": "markdown",
   "metadata": {},
   "source": [
    "<!-- <span style='color:green'> -->\n",
    "<div class=\"alert alert-block alert-info\">\n",
    "\n",
    "\n",
    "**Now You:**\n",
    "    \n",
    "1. Write a function that takes 3 arguments (say x, a and b) and checks if x is in the range \\[a,b). Make a and b optional arguments, with default values 0 and 100, respectively.\n",
    "2. Call this function with x=40, a=20 and the default value of b.\n",
    "3. Call this function with x=40, b=50 and the default value of a.\n",
    "4. Write a function that takes a string, and returns it in reverse. "
   ]
  },
  {
   "cell_type": "markdown",
   "metadata": {},
   "source": [
    "#### Namespace\n",
    "\n",
    "There is one subtle point about functions. Consider the following example:"
   ]
  },
  {
   "cell_type": "code",
   "execution_count": 5,
   "metadata": {},
   "outputs": [
    {
     "name": "stdout",
     "output_type": "stream",
     "text": [
      "3\n",
      "5\n"
     ]
    }
   ],
   "source": [
    "x = 5\n",
    "\n",
    "def fun(x):\n",
    "    return x\n",
    "    \n",
    "print(fun(3))\n",
    "print(x)"
   ]
  },
  {
   "cell_type": "markdown",
   "metadata": {},
   "source": [
    "Inside the function, the name 'x' refers to the argument of the function. The x that was defined outside of the function is 'masked' by the 'local' variable x. Similarly, the 'global' variable x is protected from changes that happen to the local variable x inside the function:"
   ]
  },
  {
   "cell_type": "code",
   "execution_count": 6,
   "metadata": {},
   "outputs": [
    {
     "name": "stdout",
     "output_type": "stream",
     "text": [
      "7\n",
      "5\n"
     ]
    }
   ],
   "source": [
    "x = 5\n",
    "\n",
    "def fun(x):\n",
    "    x=x+4\n",
    "    return x\n",
    "    \n",
    "print(fun(3))\n",
    "print(x)    "
   ]
  },
  {
   "cell_type": "markdown",
   "metadata": {},
   "source": [
    "In this example, the function changes the value of its local x, but has no effect on the global variable x. But this doesn't mean that the function doesn't have access to global variables that are not 'masked' by its arguments:"
   ]
  },
  {
   "cell_type": "code",
   "execution_count": 7,
   "metadata": {},
   "outputs": [
    {
     "name": "stdout",
     "output_type": "stream",
     "text": [
      "8\n"
     ]
    }
   ],
   "source": [
    "global_x = 5\n",
    "\n",
    "def fun(x):\n",
    "    return x+global_x\n",
    "\n",
    "print(fun(3))"
   ]
  },
  {
   "cell_type": "markdown",
   "metadata": {},
   "source": [
    "You can define more local variables that are not among the function's arguments."
   ]
  },
  {
   "cell_type": "code",
   "execution_count": 8,
   "metadata": {},
   "outputs": [
    {
     "name": "stdout",
     "output_type": "stream",
     "text": [
      "7\n"
     ]
    }
   ],
   "source": [
    "def fun(x):\n",
    "    _x = 4\n",
    "    return x+_x\n",
    "\n",
    "print(fun(3))"
   ]
  },
  {
   "cell_type": "markdown",
   "metadata": {},
   "source": [
    "I started the name of the local variable with a _ just by convention. You could name it anything else (say, local_x, or just_for_fun_x). Notice that _x cannot be accessed outside the function. If you write outside the function `print (_x)` you will get an error (try it!)."
   ]
  },
  {
   "cell_type": "markdown",
   "metadata": {},
   "source": [
    "#### Nested functions and Recursion"
   ]
  },
  {
   "cell_type": "markdown",
   "metadata": {},
   "source": [
    "You can, of course, call a function from another function:"
   ]
  },
  {
   "cell_type": "code",
   "execution_count": 9,
   "metadata": {},
   "outputs": [
    {
     "name": "stdout",
     "output_type": "stream",
     "text": [
      "9\n"
     ]
    }
   ],
   "source": [
    "def times(x,y):\n",
    "    return x*y\n",
    "\n",
    "def square(x):\n",
    "    return times(x,x)\n",
    "\n",
    "print(square(3))"
   ]
  },
  {
   "cell_type": "markdown",
   "metadata": {},
   "source": [
    "More interestingly, you can call a function from itself. This is called recursion. It can be very useful, but it's also dangerous - if a function calls itself, and then calls itself, and then calls itself, and then... this may go on for ever. When we design a recursion, we must mae sure it has a stop condition."
   ]
  },
  {
   "cell_type": "code",
   "execution_count": 10,
   "metadata": {},
   "outputs": [
    {
     "name": "stdout",
     "output_type": "stream",
     "text": [
      "6\n",
      "1\n"
     ]
    }
   ],
   "source": [
    "def factorial(n):\n",
    "    if n==0:\n",
    "        return 1 # this is our stop condition. 0! = 1\n",
    "    return n*factorial(n-1) # this is the recursion. \n",
    "                            # remember that we only get here if the function had not already returned\n",
    "    \n",
    "print (factorial(3))\n",
    "print (factorial(0))"
   ]
  },
  {
   "cell_type": "markdown",
   "metadata": {},
   "source": [
    "<!-- <span style='color:green'> -->\n",
    "<div class=\"alert alert-block alert-info\">\n",
    "\n",
    "\n",
    "**Now you:**\n",
    "1. Write a function that calculates the sum of a list of numbers using recursion. What is the stop condition? \n",
    "2. Write again a function that takes a string and returns it in reverse, but this time use recursion."
   ]
  },
  {
   "cell_type": "markdown",
   "metadata": {},
   "source": [
    "### *args and *argsw - the pythony way of collecting arguments"
   ]
  },
  {
   "cell_type": "markdown",
   "metadata": {},
   "source": [
    "Suppose that you are writing a function, but you are not sure how many arguments it is going to recieve. How do you deal with that? One way is to ask whoever calls this function to put all the arguments into a list (or a tuple) and pass the list as a single argument:"
   ]
  },
  {
   "cell_type": "code",
   "execution_count": 11,
   "metadata": {},
   "outputs": [
    {
     "data": {
      "text/plain": [
       "[1, 4, 16]"
      ]
     },
     "execution_count": 11,
     "metadata": {},
     "output_type": "execute_result"
    }
   ],
   "source": [
    "def give_me_a_list_and_ill_square_it(u):\n",
    "    return [x**2 for x in u]\n",
    "\n",
    "my_list=[1,2,4]\n",
    "give_me_a_list_and_ill_square_it(my_list)"
   ]
  },
  {
   "cell_type": "markdown",
   "metadata": {},
   "source": [
    "The other more pythony way is to allow the user to call this function with as many arguemtns as they want, and just treat them as a list. This is done with the * prefix (called called *args by convention):"
   ]
  },
  {
   "cell_type": "code",
   "execution_count": 12,
   "metadata": {},
   "outputs": [
    {
     "data": {
      "text/plain": [
       "[1, 4, 16]"
      ]
     },
     "execution_count": 12,
     "metadata": {},
     "output_type": "execute_result"
    }
   ],
   "source": [
    "def give_me_a_arguments(*args):\n",
    "    return [x**2 for x in args]\n",
    "\n",
    "give_me_a_arguments(1,2,4)"
   ]
  },
  {
   "cell_type": "markdown",
   "metadata": {},
   "source": [
    "You can also allow users to send unspecified number of arguments with names. This is usually used if you want to pass these arguments to another function. "
   ]
  },
  {
   "cell_type": "code",
   "execution_count": 13,
   "metadata": {},
   "outputs": [
    {
     "data": {
      "text/plain": [
       "['a', 'b']"
      ]
     },
     "execution_count": 13,
     "metadata": {},
     "output_type": "execute_result"
    }
   ],
   "source": [
    "def give_me_labeled_args(**kwargs):\n",
    "    return list(kwargs.keys())\n",
    "\n",
    "give_me_labeled_args(a='one',b='two')"
   ]
  },
  {
   "cell_type": "markdown",
   "metadata": {},
   "source": [
    "Order matters: if you want to mixed standard aruments with *args and **kwargs, you need to do it in this order."
   ]
  },
  {
   "cell_type": "code",
   "execution_count": 14,
   "metadata": {},
   "outputs": [
    {
     "name": "stdout",
     "output_type": "stream",
     "text": [
      "here is the sum of a few numbers: 12\n"
     ]
    }
   ],
   "source": [
    "def title_and_sum(title,*args):\n",
    "    print ('{}: {}'.format(title,sum(args)))\n",
    "    \n",
    "title_and_sum('here is the sum of a few numbers',2,4,6)"
   ]
  },
  {
   "cell_type": "markdown",
   "metadata": {},
   "source": [
    "### Lambda functions"
   ]
  },
  {
   "cell_type": "markdown",
   "metadata": {},
   "source": [
    "Some times we need a function for a one-time assignment. In such cases we can use nameless functions called lambda. These are typically one-line functions, that return the result of a simple computation. No return keyword is needed. \n",
    "\n",
    "The syntax: \n",
    "```python\n",
    "lambda arguments : operation_to_return\n",
    "```"
   ]
  },
  {
   "cell_type": "markdown",
   "metadata": {},
   "source": [
    "Let us look at a couple of examples, but the real benefit of lambda will become more clear in the Data Analysis module.\n",
    "\n",
    "First, a lambda function can be mapped onto every item in a list."
   ]
  },
  {
   "cell_type": "code",
   "execution_count": 15,
   "metadata": {},
   "outputs": [
    {
     "data": {
      "text/plain": [
       "[0, 3, 10, 5, 13]"
      ]
     },
     "execution_count": 15,
     "metadata": {},
     "output_type": "execute_result"
    }
   ],
   "source": [
    "a_list = [2,5,12,7,15]\n",
    "\n",
    "list(map(lambda x: x-2, a_list))"
   ]
  },
  {
   "cell_type": "markdown",
   "metadata": {},
   "source": [
    "Next, a lambda function that returns a boolean can be used to filter it."
   ]
  },
  {
   "cell_type": "code",
   "execution_count": 16,
   "metadata": {},
   "outputs": [
    {
     "data": {
      "text/plain": [
       "[12, 15]"
      ]
     },
     "execution_count": 16,
     "metadata": {},
     "output_type": "execute_result"
    }
   ],
   "source": [
    "list(filter(lambda x: x>10, a_list))"
   ]
  },
  {
   "cell_type": "markdown",
   "metadata": {},
   "source": [
    "### Decorators"
   ]
  },
  {
   "cell_type": "markdown",
   "metadata": {},
   "source": [
    "In python functions are \"first-class\" objects, which means that we can pass them as arguments to functions or use them as a return value of functions. Here is a simple example for a function that takes any other function, calls it, and declares victory:"
   ]
  },
  {
   "cell_type": "code",
   "execution_count": 17,
   "metadata": {},
   "outputs": [
    {
     "name": "stdout",
     "output_type": "stream",
     "text": [
      "hello world\n",
      "I did it!\n"
     ]
    }
   ],
   "source": [
    "def i_did_it(f):\n",
    "    f()\n",
    "    print('I did it!')\n",
    "    \n",
    "def hello_world():\n",
    "    print('hello world')\n",
    "    \n",
    "i_did_it(hello_world)"
   ]
  },
  {
   "cell_type": "markdown",
   "metadata": {},
   "source": [
    "Or an example that makes more sense: here is a function that takes one function as an argument, and returns another function that is a slightly modified version. In this case it times the execution of its argument function. "
   ]
  },
  {
   "cell_type": "code",
   "execution_count": 18,
   "metadata": {},
   "outputs": [],
   "source": [
    "import time\n",
    "\n",
    "def time_it(func):\n",
    "    # Let's define a new function, that is a modified version of the original one\n",
    "    def inner1(*args, **kwargs): \n",
    "        begin = time.time()  # remember the time before the function is called\n",
    "          \n",
    "        func(*args, **kwargs) # this allows func to be called with arguments\n",
    "  \n",
    "        end = time.time()    # mark the time after the function ends\n",
    "        print(\"Total time taken in {} is {}\".format(func.__name__, end - begin)) \n",
    "  \n",
    "    return inner1 # we return the modified function we just defined\n"
   ]
  },
  {
   "cell_type": "code",
   "execution_count": 19,
   "metadata": {},
   "outputs": [
    {
     "name": "stdout",
     "output_type": "stream",
     "text": [
      "hello world\n",
      "Total time taken in hello_world is 0.004944801330566406\n"
     ]
    }
   ],
   "source": [
    "hello_world_with_time=time_it(hello_world) # This defines a new function\n",
    "\n",
    "hello_world_with_time()"
   ]
  },
  {
   "cell_type": "markdown",
   "metadata": {},
   "source": [
    "Note that we used here the propetry `__name__` that is automatically defined for every function. "
   ]
  },
  {
   "cell_type": "markdown",
   "metadata": {},
   "source": [
    "We can use functions of functions as decorators. Decorators allow us to wrap another functions in order to extend them, without repeating code."
   ]
  },
  {
   "cell_type": "code",
   "execution_count": 20,
   "metadata": {},
   "outputs": [
    {
     "name": "stdout",
     "output_type": "stream",
     "text": [
      "Total time taken in loopy is 4.0531158447265625e-06\n"
     ]
    }
   ],
   "source": [
    "@time_it\n",
    "def loopy(n):\n",
    "    for i in range(n):\n",
    "        pass\n",
    "    \n",
    "loopy(5)"
   ]
  },
  {
   "cell_type": "markdown",
   "metadata": {},
   "source": [
    "Of course we can use the same decorator to decorate many different functions. This means that we can change the behavior of many different functions by simply changing their decorator. "
   ]
  },
  {
   "cell_type": "markdown",
   "metadata": {},
   "source": [
    "<!-- <span style='color:green'> -->\n",
    "<div class=\"alert alert-block alert-info\">\n",
    "\n",
    "\n",
    "**Now you:** Suppose that I want to log the execution of functions in my program using a list of pairs (function name, time of execution). Write a decorator that logs the execution of functions into my list."
   ]
  }
 ],
 "metadata": {
  "kernelspec": {
   "display_name": "Python 3",
   "language": "python",
   "name": "python3"
  },
  "language_info": {
   "codemirror_mode": {
    "name": "ipython",
    "version": 3
   },
   "file_extension": ".py",
   "mimetype": "text/x-python",
   "name": "python",
   "nbconvert_exporter": "python",
   "pygments_lexer": "ipython3",
   "version": "3.8.5"
  }
 },
 "nbformat": 4,
 "nbformat_minor": 4
}
