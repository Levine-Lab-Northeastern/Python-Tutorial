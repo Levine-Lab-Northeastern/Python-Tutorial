{
 "cells": [
  {
   "cell_type": "markdown",
   "metadata": {},
   "source": [
    "# Python Tutorial"
   ]
  },
  {
   "cell_type": "markdown",
   "metadata": {},
   "source": [
    "## Introduction"
   ]
  },
  {
   "cell_type": "markdown",
   "metadata": {},
   "source": [
    "## Obtaining and installing Python and Jupyter\n",
    "Pyhton is dstributed free of charge and there are many ways to download what you would need to get started. The [Anaconda distribution](www.anaconda.com/distribution/) comes highly recommended: it is a well maintained one-stop-shop for Python, an enviroment for writing, testing, and executing code (an IDE - integrated development environment or a Notebook environment), and other goodies. Make sure you download the version that supports Python 3.8. \n",
    "\n",
    "***\n",
    "To start, download the Anaconda installer and follow the installation instructions. \n",
    "***\n",
    "\n",
    "There are two main ways to work with Python. One is to write python programs (or scripts) and run them. The other is to work in interactive notebooks, which is the appraoch we take here. We'll comments about python scripts later. \n",
    "\n",
    "Notebook are created and executed by an application called Jupyter\n",
    "\n",
    "There are two ways to work with Jupyter Notebooks. One is to run your own copy of Jupyter,  which is conveniently included in the Anaconda distribution -- open the Anaconda Navigator application and install it from there. To run your own Jupyter server, open a terminal on your Mac or the command line on Windows and type `jupyter notebook`.\n",
    "\n",
    "Now open your browser, and in the address bar (where you usually write things like www.google.com) type [localhost:8888/notebooks/](localhost:8888/notebooks/). The Anaconda navigator has a Jupyter Notebook Launch button which will do all this for you. \n",
    " \n",
    "You can also open your notebook on [Colaboratory](colab.research.google.com), which runs on a virtual machine in the Google Cloud and integrates nicely with Google Drive, or on [Azure Notebooks](notebooks.azure.com) which runs on Microsoft's Azure Cloud and integrates nicely with Microsoft's OneDrive.\n",
    "\n",
    "Either way, you are ready to create your first notebook. Open a new notebook by choosing 'Python 3' from the 'New' pulldown menu on the top right corner or clicking the Python icon in the “notebooks” line. You could also open an existing notebook by finding it in the file tree on the left and double-clicking its name. \n",
    "\n",
    "In a Jupyter notebook, you write your code in Cells, and execute them by pressing shift+Enter. Jupyter has an autocomplete feature (just hit `tab`), and will provide online help (hit `shift+tab` repeatedly to get more information).\n",
    "\n",
    "\n",
    "\n",
    "## Your first Python Notebook\n",
    "Go ahead and open a new notebook. The new notebook has a single, empty, input cell, which is where you can type your code.  \n",
    "\n",
    "Type '1+2' in the input cell. Presss shift+Enter to execute.\n"
   ]
  },
  {
   "cell_type": "code",
   "execution_count": 1,
   "metadata": {},
   "outputs": [
    {
     "data": {
      "text/plain": [
       "3"
      ]
     },
     "execution_count": 1,
     "metadata": {},
     "output_type": "execute_result"
    }
   ],
   "source": [
    "1+2"
   ]
  },
  {
   "cell_type": "markdown",
   "metadata": {},
   "source": [
    "Great, Jupyter Notebook is a calculator. Like any fancy calculator, it can memorize things. These memory boxes are called variables, and you can name them (almost) any way you want:"
   ]
  },
  {
   "cell_type": "code",
   "execution_count": 2,
   "metadata": {},
   "outputs": [],
   "source": [
    "a=4\n",
    "α=2\n",
    "my_fancy_variable = 3.14"
   ]
  },
  {
   "cell_type": "markdown",
   "metadata": {},
   "source": [
    "Special symbols (like $\\alpha$) are created by typing them \"LaTeX style\" (e.g. \\alpha) and hitting tab.\n",
    "\n",
    "We can now perform operations using these variables"
   ]
  },
  {
   "cell_type": "code",
   "execution_count": 3,
   "metadata": {},
   "outputs": [
    {
     "name": "stdout",
     "output_type": "stream",
     "text": [
      "6\n",
      "2\n",
      "8 2.0\n",
      "9.8596\n"
     ]
    }
   ],
   "source": [
    "print(a + α)\n",
    "print(a - α)\n",
    "print(a * α, a / α)\n",
    "print(my_fancy_variable ** 2)"
   ]
  },
  {
   "cell_type": "markdown",
   "metadata": {},
   "source": [
    "Note that the vatiables retain their values until we change them, so we can use them again in subsequent cells. But beware: if you go now and change the values that you assigned to your variables in the first cell, it will not change the output in the second cell unless you execute the second cell again (by clicking on it and pressing Shift+Enter). Try that!\n"
   ]
  },
  {
   "cell_type": "markdown",
   "metadata": {},
   "source": [
    "# Module 1: variabls and basic data types"
   ]
  },
  {
   "cell_type": "markdown",
   "metadata": {},
   "source": [
    "### Numbers"
   ]
  },
  {
   "cell_type": "markdown",
   "metadata": {},
   "source": [
    "You can store multiple types of data in your variables. We've seen above that you can store numbers (either integers or floating-point numbers). You can always ask what type of data is stored in your variable:"
   ]
  },
  {
   "cell_type": "code",
   "execution_count": 4,
   "metadata": {},
   "outputs": [
    {
     "name": "stdout",
     "output_type": "stream",
     "text": [
      "<class 'int'>\n",
      "<class 'float'>\n"
     ]
    }
   ],
   "source": [
    "print (type(a))\n",
    "print (type(my_fancy_variable))"
   ]
  },
  {
   "cell_type": "markdown",
   "metadata": {},
   "source": [
    "We can operate on these variable, pretty much as you'd expect"
   ]
  },
  {
   "cell_type": "code",
   "execution_count": 5,
   "metadata": {},
   "outputs": [
    {
     "name": "stdout",
     "output_type": "stream",
     "text": [
      "5\n",
      "3\n",
      "8\n",
      "2.0\n",
      "16\n",
      "1.1400000000000001\n"
     ]
    }
   ],
   "source": [
    "print (a + 1)   # Addition;\n",
    "print (a - 1)   # Subtraction;\n",
    "print (a * 2)   # Multiplication;\n",
    "print (a / 2)   # Division;\n",
    "print (a ** 2)  # Exponentiation;\n",
    "print (my_fancy_variable % 2) # Modulus"
   ]
  },
  {
   "cell_type": "markdown",
   "metadata": {},
   "source": [
    "Remember that I don't need to type the long \"my_fancy_variable\". Just start typing a few letters, then press tab."
   ]
  },
  {
   "cell_type": "markdown",
   "metadata": {},
   "source": [
    "We can store the results of these operations in new variables:"
   ]
  },
  {
   "cell_type": "code",
   "execution_count": 6,
   "metadata": {},
   "outputs": [
    {
     "name": "stdout",
     "output_type": "stream",
     "text": [
      "8\n"
     ]
    }
   ],
   "source": [
    "b = a + 2*α\n",
    "print(b)"
   ]
  },
  {
   "cell_type": "markdown",
   "metadata": {},
   "source": [
    "or we can reassign a value to an old variable:"
   ]
  },
  {
   "cell_type": "code",
   "execution_count": 7,
   "metadata": {},
   "outputs": [
    {
     "name": "stdout",
     "output_type": "stream",
     "text": [
      "8\n"
     ]
    }
   ],
   "source": [
    "a = a + 2*α\n",
    "print(a)"
   ]
  },
  {
   "cell_type": "markdown",
   "metadata": {},
   "source": [
    "What do you think is the value of a + 2$\\alpha$ now? Try it!"
   ]
  },
  {
   "cell_type": "markdown",
   "metadata": {},
   "source": [
    "There is a short-hand way to operate on a variable, and assign the result back to the same variable: "
   ]
  },
  {
   "cell_type": "code",
   "execution_count": 8,
   "metadata": {},
   "outputs": [
    {
     "name": "stdout",
     "output_type": "stream",
     "text": [
      "9\n",
      "18\n"
     ]
    }
   ],
   "source": [
    "a += 1     # same as a = a+1\n",
    "print (a)  \n",
    "a *= 2     # same as a = a*2\n",
    "print (a)  "
   ]
  },
  {
   "cell_type": "code",
   "execution_count": 9,
   "metadata": {},
   "outputs": [
    {
     "name": "stdout",
     "output_type": "stream",
     "text": [
      "<class 'float'>\n",
      "2.5 3.5 5.0 6.25\n"
     ]
    }
   ],
   "source": [
    "y = 2.5\n",
    "print (type(y)) # Prints \"<type 'float'>\"\n",
    "print (y, y + 1, y * 2, y ** 2) # Prints \"2.5 3.5 5.0 6.25\""
   ]
  },
  {
   "cell_type": "markdown",
   "metadata": {},
   "source": [
    "**Comment:** unlike many languages, Python does not have unary increment (x++) or decrement (x--) operators."
   ]
  },
  {
   "cell_type": "markdown",
   "metadata": {},
   "source": [
    "<span style='color:green'>\n",
    "\n",
    "**Now you:** Let's calculate the area of a circle of radius 3 and place it in a variable $A$. Assigne the variable $\\pi$ with some approximate value, the variable $R$ with the radius, and use this two variables to assign $A$ with the area.\n",
    "\n",
    "[Remember: if you click this cell and press b you will open a new cell below  where you can perform this task]</span>"
   ]
  },
  {
   "cell_type": "markdown",
   "metadata": {},
   "source": [
    "### Booleans"
   ]
  },
  {
   "cell_type": "markdown",
   "metadata": {},
   "source": [
    "Boolean variables are variable that take one of two values: True or False. You can assign these values directly (note how I assign values to two variable in one shot):"
   ]
  },
  {
   "cell_type": "code",
   "execution_count": 10,
   "metadata": {},
   "outputs": [
    {
     "name": "stdout",
     "output_type": "stream",
     "text": [
      "True\n",
      "<class 'bool'>\n"
     ]
    }
   ],
   "source": [
    "t, f = True, False\n",
    "print (t)\n",
    "print (type(t)) # Prints \"<type 'bool'>\""
   ]
  },
  {
   "cell_type": "markdown",
   "metadata": {},
   "source": [
    "we can also assign Boolean variable with the result of a logical clause:"
   ]
  },
  {
   "cell_type": "code",
   "execution_count": 11,
   "metadata": {},
   "outputs": [
    {
     "name": "stdout",
     "output_type": "stream",
     "text": [
      "True\n"
     ]
    }
   ],
   "source": [
    "a = 4\n",
    "what = (a > 3)\n",
    "print(what)"
   ]
  },
  {
   "cell_type": "markdown",
   "metadata": {},
   "source": [
    "Now we let's look at the operations:"
   ]
  },
  {
   "cell_type": "code",
   "execution_count": 12,
   "metadata": {},
   "outputs": [
    {
     "name": "stdout",
     "output_type": "stream",
     "text": [
      "False\n",
      "True\n",
      "False\n",
      "True\n"
     ]
    }
   ],
   "source": [
    "print (t and f) # Logical AND;\n",
    "print (t or f)  # Logical OR;\n",
    "print (not t)   # Logical NOT;\n",
    "print (t != f)  # Logical XOR;"
   ]
  },
  {
   "cell_type": "markdown",
   "metadata": {},
   "source": [
    "### Strings"
   ]
  },
  {
   "cell_type": "code",
   "execution_count": 13,
   "metadata": {},
   "outputs": [
    {
     "name": "stdout",
     "output_type": "stream",
     "text": [
      "hello 5\n"
     ]
    }
   ],
   "source": [
    "hv = 'hello'   # String literals can use single quotes\n",
    "wv = \"world\"   # or double quotes; it does not matter.\n",
    "print (hv, len(hv))"
   ]
  },
  {
   "cell_type": "markdown",
   "metadata": {},
   "source": [
    "String variable behave in the same way as other variable. The one very useful string operation is string concatenation:"
   ]
  },
  {
   "cell_type": "code",
   "execution_count": 14,
   "metadata": {},
   "outputs": [
    {
     "name": "stdout",
     "output_type": "stream",
     "text": [
      "hello world\n"
     ]
    }
   ],
   "source": [
    "hw = hv + ' ' + wv  # String concatenation\n",
    "print (hw)  "
   ]
  },
  {
   "cell_type": "markdown",
   "metadata": {},
   "source": [
    "There are two interesting ways to create strings that contain values of other variables. One way uses the % operator"
   ]
  },
  {
   "cell_type": "code",
   "execution_count": 15,
   "metadata": {},
   "outputs": [
    {
     "name": "stdout",
     "output_type": "stream",
     "text": [
      "hello world #12\n"
     ]
    }
   ],
   "source": [
    "hw12 = '%s %s #%d' % (hv, wv, 12) \n",
    "print (hw12) "
   ]
  },
  {
   "cell_type": "markdown",
   "metadata": {},
   "source": [
    "Here the string the sits in front of the % operator is the formatting string. It tells us what the new string should like - it should have string, a space, another string, a space, a hashtag, and a decimal. The values of the two strings and the decimal are given in the triplet behind the % operator. Here is another example:"
   ]
  },
  {
   "cell_type": "code",
   "execution_count": 16,
   "metadata": {},
   "outputs": [
    {
     "name": "stdout",
     "output_type": "stream",
     "text": [
      "when I round 2.700000 I get 2\n"
     ]
    }
   ],
   "source": [
    "print ('when I round %f I get %d' % (2.7,2))"
   ]
  },
  {
   "cell_type": "markdown",
   "metadata": {},
   "source": [
    "<span style='color:green'>\n",
    "\n",
    "**Now you:** Use the variable you defined before to print \"the area of a circle of radius # is #' (replacing the #s with the values of your variables).\n",
    "</span>"
   ]
  },
  {
   "cell_type": "markdown",
   "metadata": {},
   "source": [
    "Here's a more modern way of creating a fomatted string uses the format method. This time you use {} as a placeholder for your variables, and trust python that it will know what to do with it."
   ]
  },
  {
   "cell_type": "code",
   "execution_count": 17,
   "metadata": {},
   "outputs": [
    {
     "name": "stdout",
     "output_type": "stream",
     "text": [
      "hello world #12 when I round 2.7 I get 2\n"
     ]
    }
   ],
   "source": [
    "hw12a = '{} {} #{}'.format(hv,wv,12)\n",
    "round_string = 'when I round {} I get {}'.format(2.7,2)\n",
    "print(hw12a, round_string)"
   ]
  },
  {
   "cell_type": "markdown",
   "metadata": {},
   "source": [
    "You can control the way numbers are formatted (and other fancy stuff). Google \"python format\" to see more options."
   ]
  },
  {
   "cell_type": "code",
   "execution_count": 18,
   "metadata": {},
   "outputs": [
    {
     "data": {
      "text/plain": [
       "'In scientific notation, 0.33 is 3.333333E-01'"
      ]
     },
     "execution_count": 18,
     "metadata": {},
     "output_type": "execute_result"
    }
   ],
   "source": [
    "x=1.0/3.0\n",
    "'In scientific notation, {:.2f} is {:E}'.format(x,x)"
   ]
  },
  {
   "cell_type": "markdown",
   "metadata": {},
   "source": [
    "Some variable types provide methods, which are really just more specialized operations. \n",
    "To call such a method, you type the name of the variable, then period, and then the name of the method. If the method requires some more parameters, you put them in brackets. \n",
    "\n",
    "String objects have a bunch of useful methods; for example:"
   ]
  },
  {
   "cell_type": "code",
   "execution_count": 19,
   "metadata": {},
   "outputs": [
    {
     "name": "stdout",
     "output_type": "stream",
     "text": [
      "Hello\n",
      "HELLO\n",
      "  hello\n",
      " hello \n",
      "he(ell)(ell)o\n",
      "world\n",
      "['h', 'llo']\n"
     ]
    }
   ],
   "source": [
    "s = \"hello\"\n",
    "print (s.capitalize())  # Capitalize a string; prints \"Hello\"\n",
    "print (s.upper())       # Convert a string to uppercase; prints \"HELLO\"\n",
    "print (s.rjust(7))      # Right-justify a string, padding with spaces; prints \"  hello\"\n",
    "print (s.center(7))     # Center a string, padding with spaces; prints \" hello \"\n",
    "print (s.replace('l', '(ell)'))  # Replace all instances of one substring with another;\n",
    "print ('  world '.strip())  # Strip leading and trailing whitespace; prints \"world\"\n",
    "print (s.split('e'))     # splits the string using the specified delimier; creares a list, as explained below"
   ]
  },
  {
   "cell_type": "markdown",
   "metadata": {},
   "source": [
    "## Containers"
   ]
  },
  {
   "cell_type": "markdown",
   "metadata": {},
   "source": [
    "Containers are variable that hold multiple values. \n",
    "\n",
    "Python includes several built-in container types: lists, dictionaries, sets, and tuples. We'll go over them one by one, and empahsize the differences."
   ]
  },
  {
   "cell_type": "markdown",
   "metadata": {},
   "source": [
    "### Lists"
   ]
  },
  {
   "cell_type": "markdown",
   "metadata": {},
   "source": [
    "A list is an ordered collection of values, perhaps of different types, which can eaily be accessed and expanded. To create a list, just give it some values"
   ]
  },
  {
   "cell_type": "code",
   "execution_count": 20,
   "metadata": {},
   "outputs": [
    {
     "name": "stdout",
     "output_type": "stream",
     "text": [
      "[3, 1, 2.7, 'value']\n"
     ]
    }
   ],
   "source": [
    "xs = [3, 1, 2.7, 'value'] \n",
    "print (xs)"
   ]
  },
  {
   "cell_type": "markdown",
   "metadata": {},
   "source": [
    "The number of elements in the list is accessible through the <code>len<\\code> operator"
   ]
  },
  {
   "cell_type": "code",
   "execution_count": 21,
   "metadata": {},
   "outputs": [
    {
     "name": "stdout",
     "output_type": "stream",
     "text": [
      "4\n"
     ]
    }
   ],
   "source": [
    "print (len(xs))"
   ]
  },
  {
   "cell_type": "markdown",
   "metadata": {},
   "source": [
    "You can access a value in the list using its index (starting from 0):"
   ]
  },
  {
   "cell_type": "code",
   "execution_count": 22,
   "metadata": {},
   "outputs": [
    {
     "name": "stdout",
     "output_type": "stream",
     "text": [
      "3\n",
      "value\n"
     ]
    }
   ],
   "source": [
    "print (xs[0])\n",
    "print (xs[3])"
   ]
  },
  {
   "cell_type": "markdown",
   "metadata": {},
   "source": [
    "You can also index from the end using negative indices:"
   ]
  },
  {
   "cell_type": "code",
   "execution_count": 23,
   "metadata": {},
   "outputs": [
    {
     "name": "stdout",
     "output_type": "stream",
     "text": [
      "value\n",
      "3\n"
     ]
    }
   ],
   "source": [
    "print (xs[-1])\n",
    "print (xs[-4])"
   ]
  },
  {
   "cell_type": "markdown",
   "metadata": {},
   "source": [
    "Feel free replace the values at any place (but only within the existing range):"
   ]
  },
  {
   "cell_type": "code",
   "execution_count": 24,
   "metadata": {},
   "outputs": [
    {
     "name": "stdout",
     "output_type": "stream",
     "text": [
      "[3, 1, 'two point seven', 'value']\n"
     ]
    }
   ],
   "source": [
    "xs[2] = 'two point seven'   \n",
    "print (xs)"
   ]
  },
  {
   "cell_type": "markdown",
   "metadata": {},
   "source": [
    "But don't try <code>x[4]='something new'</code>, this will generate an error!\n",
    "If you do want to add new values, use the append method:"
   ]
  },
  {
   "cell_type": "code",
   "execution_count": 25,
   "metadata": {},
   "outputs": [
    {
     "name": "stdout",
     "output_type": "stream",
     "text": [
      "[3, 1, 'two point seven', 'value', 'something new']\n"
     ]
    }
   ],
   "source": [
    "xs.append('something new') # Add a new element to the end of the list\n",
    "print (xs)"
   ]
  },
  {
   "cell_type": "markdown",
   "metadata": {},
   "source": [
    "Use pop to remove and return the last element of the list"
   ]
  },
  {
   "cell_type": "code",
   "execution_count": 26,
   "metadata": {},
   "outputs": [
    {
     "name": "stdout",
     "output_type": "stream",
     "text": [
      "something new [3, 1, 'two point seven', 'value']\n"
     ]
    }
   ],
   "source": [
    "x = xs.pop() \n",
    "print (x, xs)"
   ]
  },
  {
   "cell_type": "markdown",
   "metadata": {},
   "source": [
    "Finally, you can check if an element exists in a list:"
   ]
  },
  {
   "cell_type": "code",
   "execution_count": 27,
   "metadata": {},
   "outputs": [
    {
     "name": "stdout",
     "output_type": "stream",
     "text": [
      "True False\n"
     ]
    }
   ],
   "source": [
    "print (3 in xs, 2 in xs)"
   ]
  },
  {
   "cell_type": "markdown",
   "metadata": {},
   "source": [
    "**Slicing:**\n",
    "\n",
    "In addition to accessing list elements one at a time, Python provides concise syntax to access sublists; this is known as slicing:"
   ]
  },
  {
   "cell_type": "code",
   "execution_count": 28,
   "metadata": {},
   "outputs": [
    {
     "name": "stdout",
     "output_type": "stream",
     "text": [
      "[0, 1, 2, 3, 4]\n",
      "[2, 3]\n",
      "[2, 3, 4]\n",
      "[0, 1]\n",
      "[0, 1, 2, 3, 4]\n",
      "[0, 1, 2, 3]\n",
      "[0, 1, 8, 9, 4]\n"
     ]
    }
   ],
   "source": [
    "nums = [0,1,2,3,4]   \n",
    "print (nums)         # Prints \"[0, 1, 2, 3, 4]\"\n",
    "print (nums[2:4])    # Get a slice from index 2 to 4 (exclusive); prints \"[2, 3]\"\n",
    "print (nums[2:])     # Get a slice from index 2 to the end; prints \"[2, 3, 4]\"\n",
    "print (nums[:2])     # Get a slice from the start to index 2 (exclusive); prints \"[0, 1]\"\n",
    "print (nums[:])      # Get a slice of the whole list; prints [\"0, 1, 2, 3, 4]\"\n",
    "print (nums[:-1])    # Slice indices can be negative; prints [\"0, 1, 2, 3]\"\n",
    "nums[2:4] = [8, 9] # Assign a new sublist to a slice\n",
    "print (nums)         # Prints \"[0, 1, 8, 9, 4]\""
   ]
  },
  {
   "cell_type": "markdown",
   "metadata": {},
   "source": [
    "<span style='color:green'>\n",
    "\n",
    "***Now you:***\n",
    "\n",
    "Create a list that contains the names of the first 8 letters of the alphabet. Then print only the first 3. Then only the last 5. Then only the second and the third. Then exchange the order of \"cee\" and \"dee\"."
   ]
  },
  {
   "cell_type": "markdown",
   "metadata": {},
   "source": [
    "We will come back to lists in the next module. But for now, let's move to other containers."
   ]
  },
  {
   "cell_type": "markdown",
   "metadata": {},
   "source": [
    "### Dictionaries"
   ]
  },
  {
   "cell_type": "markdown",
   "metadata": {},
   "source": [
    "A dictionary stores a collection of (key, value) pairs. You set up a dictionary like this:"
   ]
  },
  {
   "cell_type": "code",
   "execution_count": 29,
   "metadata": {},
   "outputs": [],
   "source": [
    "nt = {'A': 'adenine', 'T': 'thymine', 'G':'guanine', 'C': 'cytosine'}"
   ]
  },
  {
   "cell_type": "markdown",
   "metadata": {},
   "source": [
    "You can easily find what is the value of a certain key:"
   ]
  },
  {
   "cell_type": "code",
   "execution_count": 30,
   "metadata": {},
   "outputs": [
    {
     "name": "stdout",
     "output_type": "stream",
     "text": [
      "adenine\n"
     ]
    }
   ],
   "source": [
    "print (nt['A'])"
   ]
  },
  {
   "cell_type": "markdown",
   "metadata": {},
   "source": [
    "If needed, you can add more (key, value) pairs to an existing dictionary, or remove them:"
   ]
  },
  {
   "cell_type": "code",
   "execution_count": 31,
   "metadata": {},
   "outputs": [],
   "source": [
    "nt['U']='uracil'\n",
    "del (nt['U'])"
   ]
  },
  {
   "cell_type": "markdown",
   "metadata": {},
   "source": [
    "You may want to check if a dictionary has a given key. This is important, because asking for the value of a key that does not exist raises an error:"
   ]
  },
  {
   "cell_type": "code",
   "execution_count": 32,
   "metadata": {},
   "outputs": [
    {
     "name": "stdout",
     "output_type": "stream",
     "text": [
      "True False\n"
     ]
    }
   ],
   "source": [
    "print ('A' in nt , 'W' in nt )"
   ]
  },
  {
   "cell_type": "markdown",
   "metadata": {},
   "source": [
    "alternatively, you can ask for a value of a key, but tell python how to respond if the key does not exist:"
   ]
  },
  {
   "cell_type": "code",
   "execution_count": 33,
   "metadata": {},
   "outputs": [
    {
     "name": "stdout",
     "output_type": "stream",
     "text": [
      "adenine\n",
      "not a nucleotide\n"
     ]
    }
   ],
   "source": [
    "print (nt.get('A', 'not a nucleotide')) \n",
    "print (nt.get('W', 'not a nucleotide') )"
   ]
  },
  {
   "cell_type": "markdown",
   "metadata": {},
   "source": [
    "### Sets"
   ]
  },
  {
   "cell_type": "markdown",
   "metadata": {},
   "source": [
    "A set is an **unordered** collection of distinct elements. Since there is no order, the elements have no indices (so you cannot access them or slice them)"
   ]
  },
  {
   "cell_type": "code",
   "execution_count": 34,
   "metadata": {},
   "outputs": [
    {
     "name": "stdout",
     "output_type": "stream",
     "text": [
      "True\n",
      "False\n"
     ]
    }
   ],
   "source": [
    "animals = {'cat', 'dog'}\n",
    "print ('cat' in animals )  \n",
    "print ('fish' in animals)  "
   ]
  },
  {
   "cell_type": "markdown",
   "metadata": {},
   "source": [
    "You can add or remove elements from a list:"
   ]
  },
  {
   "cell_type": "code",
   "execution_count": 35,
   "metadata": {},
   "outputs": [
    {
     "name": "stdout",
     "output_type": "stream",
     "text": [
      "{'fish', 'dog'}\n"
     ]
    }
   ],
   "source": [
    "animals.add('fish')     \n",
    "animals.remove('cat')   \n",
    "print(animals)"
   ]
  },
  {
   "cell_type": "markdown",
   "metadata": {},
   "source": [
    "And you can use some mathematical set operations"
   ]
  },
  {
   "cell_type": "code",
   "execution_count": 36,
   "metadata": {},
   "outputs": [
    {
     "name": "stdout",
     "output_type": "stream",
     "text": [
      "{'E. coli', 'S. cerevisiae', 'P. fluorescens', 'H. spaiens', 'C. elegans'}\n",
      "{'S. cerevisiae'}\n",
      "{'E. coli', 'P. fluorescens'}\n"
     ]
    }
   ],
   "source": [
    "single_cell = {'E. coli','P. fluorescens','S. cerevisiae'}\n",
    "eukaryotes = {'H. spaiens','S. cerevisiae','C. elegans'}\n",
    "print (single_cell.union(eukaryotes))\n",
    "print (single_cell.intersection(eukaryotes))\n",
    "print (single_cell.difference(eukaryotes))"
   ]
  },
  {
   "cell_type": "markdown",
   "metadata": {},
   "source": [
    "<span style='color:green'>\n",
    "\n",
    "**Now you:** What kind of container (list, dictionary, set) would you use for the following:\n",
    "- The patients who wait to see a doctor\n",
    "- Gene names and their symbols\n",
    "- The genes that came up in a certain screen\n",
    "- NU students and their recent COVID-19 test result\n",
    "- US states, sorted by their population size"
   ]
  }
 ],
 "metadata": {
  "kernelspec": {
   "display_name": "Python 3",
   "language": "python",
   "name": "python3"
  },
  "language_info": {
   "codemirror_mode": {
    "name": "ipython",
    "version": 3
   },
   "file_extension": ".py",
   "mimetype": "text/x-python",
   "name": "python",
   "nbconvert_exporter": "python",
   "pygments_lexer": "ipython3",
   "version": "3.8.5"
  }
 },
 "nbformat": 4,
 "nbformat_minor": 4
}
