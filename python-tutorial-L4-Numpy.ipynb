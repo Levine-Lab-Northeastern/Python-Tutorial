{
 "cells": [
  {
   "cell_type": "markdown",
   "metadata": {},
   "source": [
    "## Module 4: Manipulating and plotting numbers with Numpy and Matplotlib"
   ]
  },
  {
   "cell_type": "markdown",
   "metadata": {},
   "source": [
    "### A few necassary words about Modules and packages\n",
    "\n",
    "Python comes 'out of the box' with a set of built-in commands, which all we've used up until now. But what makes Python so powerful is the availability of many packages that provide waide range of functionalities, including graphics, data analysis, math and science, real-time control, machine learning and much much more. \n",
    "\n",
    "Let us quickly review how this is organized, before moving on to talk about two of the most useful packages - numpy and matplotlib.\n",
    "\n",
    "Every file that contains python definitions and statements (such as functions, constants, classes etc) is a module, that can be imported into any other python code. Once you import a module, you have access to all these defnitions. \n",
    "\n",
    "We can simply import a module with the command \n",
    "```python\n",
    "import random\n",
    "```\n",
    "We can now use any function or definition in the module random, using the name of the module as a prefix. For example, to access the `randint()` function from the random module (which returns a random integer), we will call it\n",
    "```python\n",
    "r = random.randint()\n",
    "```\n",
    "Some times the name of a module is too long, and we may want to give it a shortcut: \n",
    "```python\n",
    "import random as rnd\n",
    "r = rnd.randint()\n",
    "```\n",
    "\n",
    "A package is a collection of multiple modules, placed in a directory tree on your disk. Sub directories of the package are known as sub-packages. For example, the package numpy, the fundamental package for scientific computing with Python, has a sub-package linalg which contains linear algebra functions, a sub-package fft which deals with Discrete Fourier Transforms, and more. \n",
    "\n",
    "When you import an entire package, you get acess to all functions in its subpackages, but you need to mention them explicitly:\n",
    "```python\n",
    "import numpy as np\n",
    "a_determinant = np.linalg.det(a)\n",
    "```\n",
    "\n",
    "You can also import only a subpackage, if you know that that is all you're going to need:\n",
    "```python\n",
    "import numpy.linalg\n",
    "a_determinant = np.linalg.det(a)\n",
    "```\n",
    "\n",
    "or even better\n",
    "```python\n",
    "import numpy.linalg as la\n",
    "a_determinant = la.det(a)\n",
    "```\n",
    "\n",
    "If all you need is one (or a few) specific things from a package, you can import just that:\n",
    "```python\n",
    "from numpy.linalg import det\n",
    "a_determinant = det(a)\n",
    "```\n",
    "\n",
    "Since you just brought `det` into your code, there is no need for any prefix when you call it.\n",
    "\n",
    "Finally, sometimes useful but also risky, you can bring everything from a package (or sub-package) into your code:\n",
    "```python\n",
    "from numpy.linalg import *\n",
    "a_determinant = det(a)\n",
    "```\n",
    "\n",
    "What's the risk? suppose that you have in your code a function called cond. The linalg subpackage also has a function by the same name. Which one will overwrite the other depends on the order of the definition, and can lead to unpredictable results. This is avoided if you use `import numpy.linalg as la', since now _your_ cond is called cond, while the other cond is called la.cond.\n",
    "\n",
    "\n",
    "\n",
    "\n",
    "\n",
    "\n",
    "\n"
   ]
  },
  {
   "cell_type": "markdown",
   "metadata": {},
   "source": [
    "## Numpy"
   ]
  },
  {
   "cell_type": "markdown",
   "metadata": {},
   "source": [
    "Numpy is the core library for scientific computing in Python. It provides a high-performance multidimensional array object (which you can think of as mathematical vectors, matrices and tensors), and tools for working with these arrays. \n",
    "\n",
    "Numpy provides all the core functionalities of MATLAB and more. If you are already familiar with MATLAB, you might find this [tutorial](https://docs.scipy.org/doc/numpy/user/numpy-for-matlab-users.html) useful to get started with Numpy."
   ]
  },
  {
   "cell_type": "markdown",
   "metadata": {},
   "source": [
    "To use Numpy, we first need to import the `numpy` package:"
   ]
  },
  {
   "cell_type": "code",
   "execution_count": 1,
   "metadata": {},
   "outputs": [],
   "source": [
    "import numpy as np"
   ]
  },
  {
   "cell_type": "markdown",
   "metadata": {},
   "source": [
    "### Arrays"
   ]
  },
  {
   "cell_type": "markdown",
   "metadata": {},
   "source": [
    "The most import thing that Numpy provides is the array data data. A numpy array is a grid of values, **all of the same type**. The number of dimensions is called the rank of the array (not to be confused with the linear-algebra definition of a rank); the shape of an array is a tuple of integers giving the size of the array along each dimension."
   ]
  },
  {
   "cell_type": "markdown",
   "metadata": {},
   "source": [
    "We can initialize numpy arrays from nested Python lists, which will give it its initial rank, shape, and values: "
   ]
  },
  {
   "cell_type": "code",
   "execution_count": 2,
   "metadata": {},
   "outputs": [
    {
     "name": "stdout",
     "output_type": "stream",
     "text": [
      "[1 2 3]\n",
      "(3,)\n"
     ]
    }
   ],
   "source": [
    "a = np.array([1, 2, 3])        # Create a rank 1 array \n",
    "print(a, a.shape,sep='\\n')"
   ]
  },
  {
   "cell_type": "code",
   "execution_count": 3,
   "metadata": {},
   "outputs": [
    {
     "name": "stdout",
     "output_type": "stream",
     "text": [
      "[[1 2]\n",
      " [4 5]]\n",
      "(2, 2)\n"
     ]
    }
   ],
   "source": [
    "b = np.array([[1, 2],[4,5]])   # Creates a 2x2 matrix\n",
    "print(b, b.shape,sep='\\n')"
   ]
  },
  {
   "cell_type": "markdown",
   "metadata": {
    "tags": []
   },
   "source": [
    "### How to fill up your array?\n",
    "\n",
    "You can initialize your array with some standatd ones:"
   ]
  },
  {
   "cell_type": "code",
   "execution_count": 4,
   "metadata": {},
   "outputs": [
    {
     "name": "stdout",
     "output_type": "stream",
     "text": [
      "[[0. 0.]\n",
      " [0. 0.]\n",
      " [0. 0.]]\n"
     ]
    }
   ],
   "source": [
    "a = np.zeros((3,2))    # Matrix of zeros\n",
    "print(a)"
   ]
  },
  {
   "cell_type": "code",
   "execution_count": 5,
   "metadata": {},
   "outputs": [
    {
     "name": "stdout",
     "output_type": "stream",
     "text": [
      "[[1. 1. 1.]\n",
      " [1. 1. 1.]]\n"
     ]
    }
   ],
   "source": [
    "b = np.ones((2,3))   # Matrix of ones\n",
    "print(b)"
   ]
  },
  {
   "cell_type": "code",
   "execution_count": 6,
   "metadata": {},
   "outputs": [
    {
     "name": "stdout",
     "output_type": "stream",
     "text": [
      "[[7 7]\n",
      " [7 7]]\n"
     ]
    }
   ],
   "source": [
    "c = np.full((2,2), 7) # Create a constant array; the same as 7*np.ones(2,2)\n",
    "print (c)"
   ]
  },
  {
   "cell_type": "code",
   "execution_count": 7,
   "metadata": {},
   "outputs": [
    {
     "name": "stdout",
     "output_type": "stream",
     "text": [
      "[[1. 0. 0. 0.]\n",
      " [0. 1. 0. 0.]\n",
      " [0. 0. 1. 0.]\n",
      " [0. 0. 0. 1.]]\n"
     ]
    }
   ],
   "source": [
    "d = np.eye(4)          # Identitiy matrix\n",
    "print(d)"
   ]
  },
  {
   "cell_type": "code",
   "execution_count": 8,
   "metadata": {},
   "outputs": [
    {
     "name": "stdout",
     "output_type": "stream",
     "text": [
      "[[1. 1.]\n",
      " [1. 1.]]\n"
     ]
    }
   ],
   "source": [
    "e = np.empty((2,2))    # this is just a placeholder \n",
    "                       # you should never assume anything about its values.\n",
    "print(e)"
   ]
  },
  {
   "cell_type": "markdown",
   "metadata": {},
   "source": [
    "You can fill up your array with random numbers: (we  talk about other distributions in the Probability module)"
   ]
  },
  {
   "cell_type": "code",
   "execution_count": 9,
   "metadata": {},
   "outputs": [
    {
     "name": "stdout",
     "output_type": "stream",
     "text": [
      "[[0.83117897 0.42764755]\n",
      " [0.84412785 0.81623881]]\n"
     ]
    }
   ],
   "source": [
    "f = np.random.random((2,2)) # Create an array filled with uniformly-distributed \n",
    "print (f)                   # random values in [0,1); the random sub-package provides \n",
    "                            # arrays with many other distributions, see below."
   ]
  },
  {
   "cell_type": "markdown",
   "metadata": {},
   "source": [
    "If you want to fill up your array with a sequence of numbers, there are two ways to do that. `arange` lets you the start, stop and step, just like Python's `range`:"
   ]
  },
  {
   "cell_type": "code",
   "execution_count": 10,
   "metadata": {},
   "outputs": [
    {
     "name": "stdout",
     "output_type": "stream",
     "text": [
      "[0 1 2 3 4]\n",
      "[2 3 4]\n",
      "[2 4]\n"
     ]
    }
   ],
   "source": [
    "print (np.arange(5))\n",
    "print (np.arange(2,5))\n",
    "print (np.arange(2,5,2))"
   ]
  },
  {
   "cell_type": "markdown",
   "metadata": {},
   "source": [
    "In contrast, `linspace` lets you specify the start, stop, and how many equally-spaced elements you want to create in this range."
   ]
  },
  {
   "cell_type": "code",
   "execution_count": 11,
   "metadata": {},
   "outputs": [
    {
     "name": "stdout",
     "output_type": "stream",
     "text": [
      "[0.   1.25 2.5  3.75 5.  ]\n",
      "[0. 1. 2. 3. 4.]\n",
      "[0.  0.5 1.  1.5 2.  2.5 3.  3.5 4.  4.5 5. ]\n"
     ]
    }
   ],
   "source": [
    "print (np.linspace(0,5,5))\n",
    "print (np.linspace(0,5,5,endpoint=False))\n",
    "print (np.linspace(0,5,11))"
   ]
  },
  {
   "cell_type": "markdown",
   "metadata": {},
   "source": [
    "A similar, and very useful, function is `logspace`, which creates a sequence of lograithmicall-spaced numbers in the range 10^start to 10^stop:"
   ]
  },
  {
   "cell_type": "code",
   "execution_count": 12,
   "metadata": {
    "tags": []
   },
   "outputs": [
    {
     "name": "stdout",
     "output_type": "stream",
     "text": [
      "[1.e+00 1.e+04 1.e+08]\n",
      "[1.e+00 1.e+02 1.e+04 1.e+06 1.e+08]\n"
     ]
    }
   ],
   "source": [
    "print (np.logspace(0,8,3))\n",
    "print (np.logspace(0,8,5))"
   ]
  },
  {
   "cell_type": "markdown",
   "metadata": {},
   "source": [
    "You can also fill up your array from a function:"
   ]
  },
  {
   "cell_type": "code",
   "execution_count": 13,
   "metadata": {},
   "outputs": [
    {
     "data": {
      "text/plain": [
       "array([[ 0.,  1.,  2.,  3.],\n",
       "       [10., 11., 12., 13.],\n",
       "       [20., 21., 22., 23.]])"
      ]
     },
     "execution_count": 13,
     "metadata": {},
     "output_type": "execute_result"
    }
   ],
   "source": [
    "np.fromfunction(lambda x,y: 10*x+y, (3,4))"
   ]
  },
  {
   "cell_type": "markdown",
   "metadata": {},
   "source": [
    "Finally, you can fill up your array from a file. \n",
    "\n",
    "Best way to save your array is in a binary format, using\n",
    "```python\n",
    "a.save('a_filename')\n",
    "```\n",
    "(this will add extension .np to the file name). Use savez instead for a zip-compressed version (with extension .npz). \n",
    "You then load these files with \n",
    "```python\n",
    "a = np.load('a_filename.np')\n",
    "```\n",
    "\n",
    "You can also read a matrix from a text file with \n",
    "```python\n",
    "np.loadtxt('numbers.txt', dtype='int', delimiter=',',skiprows=1, comments='#')\n",
    "```\n",
    "which allows you to skip rows (if you're file has some text before the actual data) or text that comes after the specified comments symbol.\n",
    "\n"
   ]
  },
  {
   "cell_type": "markdown",
   "metadata": {},
   "source": [
    "### Array indexing"
   ]
  },
  {
   "cell_type": "markdown",
   "metadata": {},
   "source": [
    "Numpy offers several ways to index into arrays."
   ]
  },
  {
   "cell_type": "markdown",
   "metadata": {},
   "source": [
    "**1. Integer array indexing**: You can access elements in an array using integer indices, just like you did with Python lists. Note that all indices start at 0."
   ]
  },
  {
   "cell_type": "code",
   "execution_count": 14,
   "metadata": {},
   "outputs": [
    {
     "name": "stdout",
     "output_type": "stream",
     "text": [
      "1 3 \n",
      "\n",
      "[6 2 3]\n"
     ]
    }
   ],
   "source": [
    "# one-dimensional array\n",
    "\n",
    "a = np.array([1, 2, 3])  \n",
    "print (a[0], a[-1],'\\n')  # Remember that negative indices count from the end\n",
    "\n",
    "a[0] = 6\n",
    "print(a)"
   ]
  },
  {
   "cell_type": "code",
   "execution_count": 15,
   "metadata": {},
   "outputs": [
    {
     "name": "stdout",
     "output_type": "stream",
     "text": [
      "1 6 6 \n",
      "\n",
      "[[1 2 3]\n",
      " [4 5 5]]\n"
     ]
    }
   ],
   "source": [
    "# 2-dimensional array\n",
    "\n",
    "b = np.array([[1, 2, 3],[4, 5, 6]])  \n",
    "print (b[0,0], b[1,2], b[1,-1],'\\n')      \n",
    "\n",
    "b[1,2] = 5  \n",
    "print (b)                  "
   ]
  },
  {
   "cell_type": "markdown",
   "metadata": {},
   "source": [
    "We can use a list (or array) of indices to create a new array from an existing one"
   ]
  },
  {
   "cell_type": "code",
   "execution_count": 16,
   "metadata": {},
   "outputs": [
    {
     "name": "stdout",
     "output_type": "stream",
     "text": [
      "[2 6] \n",
      "\n",
      "[1 2 1]\n"
     ]
    }
   ],
   "source": [
    "b = np.array([[1, 2, 3],[4, 5, 6]])  \n",
    "\n",
    "c = b[[0, 1],[1,2]]  # this is a one-dimensional array [b[0,1], b[0,2]], not a 2-d array!\n",
    "print (c,'\\n')\n",
    "\n",
    "# When using integer array indexing, you can reuse the same element from the source array:\n",
    "print (b[0, [0, 1, 0]])"
   ]
  },
  {
   "cell_type": "markdown",
   "metadata": {},
   "source": [
    "One useful trick with integer array indexing is selecting or mutating one element from each row of a matrix:"
   ]
  },
  {
   "cell_type": "code",
   "execution_count": 17,
   "metadata": {},
   "outputs": [
    {
     "name": "stdout",
     "output_type": "stream",
     "text": [
      "[[ 1  2  3]\n",
      " [ 4  5  6]\n",
      " [ 7  8  9]\n",
      " [10 11 12]] \n",
      "\n",
      "[ 1  6  7 11]\n"
     ]
    }
   ],
   "source": [
    "# Create a new array from which we will select elements\n",
    "a = (np.array([[1,2,3], [4,5,6], [7,8,9], [10, 11, 12]]))\n",
    "print (a,'\\n')\n",
    "\n",
    "# Create an array of indices\n",
    "b = np.array([0, 2, 0, 1])\n",
    "\n",
    "# Select one element from each row of a using the indices in b\n",
    "print (a[np.arange(4), b])  # this is [b[0,0],b[1,2],b[2,0],b[3,1]]"
   ]
  },
  {
   "cell_type": "markdown",
   "metadata": {},
   "source": [
    "We can use the same trick to change the elements of an array"
   ]
  },
  {
   "cell_type": "code",
   "execution_count": 18,
   "metadata": {},
   "outputs": [
    {
     "name": "stdout",
     "output_type": "stream",
     "text": [
      "[[ 2  2  2]\n",
      " [ 4  5  6]\n",
      " [ 7  8  9]\n",
      " [10 11 12]] \n",
      "\n",
      "[[12  2  2]\n",
      " [ 4  5 16]\n",
      " [17  8  9]\n",
      " [10 21 12]]\n"
     ]
    }
   ],
   "source": [
    "a [0,[0, 2]] = 2\n",
    "print(a,'\\n')\n",
    "\n",
    "# Mutate one element from each row of a using the indices in b\n",
    "a[np.arange(4), b] += 10\n",
    "print (a)"
   ]
  },
  {
   "cell_type": "markdown",
   "metadata": {},
   "source": [
    "**2. Boolean array indexing**: Boolean array indexing lets you pick out elements of an array. Frequently this type of indexing is used to select the elements of an array that satisfy some condition. "
   ]
  },
  {
   "cell_type": "code",
   "execution_count": 19,
   "metadata": {},
   "outputs": [
    {
     "name": "stdout",
     "output_type": "stream",
     "text": [
      "[[1 2]\n",
      " [3 4]\n",
      " [5 6]] \n",
      "\n",
      "[[False False]\n",
      " [ True  True]\n",
      " [ True  True]]\n"
     ]
    }
   ],
   "source": [
    "\n",
    "a = (np.array([[1,2], [3, 4], [5, 6]]))\n",
    "\n",
    "bool_idx = (a > 2)  # Find the elements of a that are bigger than 2;\n",
    "                    # this returns a numpy array of Booleans of the same\n",
    "                    # shape as a, where each slot of bool_idx tells\n",
    "                    # whether that element of a is > 2.\n",
    "\n",
    "print (a, '\\n')\n",
    "print (bool_idx)"
   ]
  },
  {
   "cell_type": "markdown",
   "metadata": {},
   "source": [
    "We use boolean array indexing to construct a rank 1 array consisting of the elements of a corresponding to the True values\n",
    "of bool_idx"
   ]
  },
  {
   "cell_type": "code",
   "execution_count": 20,
   "metadata": {},
   "outputs": [
    {
     "name": "stdout",
     "output_type": "stream",
     "text": [
      "[3 4 5 6] \n",
      "\n",
      "[3 4 5 6] \n",
      "\n",
      "[[-1 -1]\n",
      " [-1  4]\n",
      " [ 5  6]]\n"
     ]
    }
   ],
   "source": [
    "print (a[bool_idx],'\\n')\n",
    "\n",
    "# We can do all of the above in a single concise statement:\n",
    "print (a[a > 2],'\\n')\n",
    "\n",
    "a[a<4] = -1\n",
    "print(a)"
   ]
  },
  {
   "cell_type": "markdown",
   "metadata": {},
   "source": [
    "**3. Slicing**: Numpy arrays can be sliced. Since arrays may be multidimensional, you must specify a slice for each dimension of the array:"
   ]
  },
  {
   "cell_type": "code",
   "execution_count": 21,
   "metadata": {},
   "outputs": [
    {
     "name": "stdout",
     "output_type": "stream",
     "text": [
      "[[ 1  2  3  4]\n",
      " [ 5  6  7  8]\n",
      " [ 9 10 11 12]] \n",
      "\n",
      "[[2 3]\n",
      " [6 7]] \n",
      "\n",
      "[[ 6  7  8]\n",
      " [10 11 12]]\n"
     ]
    }
   ],
   "source": [
    "a = np.array([[1,2,3,4], [5,6,7,8], [9,10,11,12]])\n",
    "print(a,'\\n')\n",
    "\n",
    "# Use slicing to pull out the subarray consisting of the first 2 rows\n",
    "# and columns 1 and 2\n",
    "b = a[:2, 1:3]\n",
    "print (b,'\\n')\n",
    "\n",
    "# print last 2 rows, first 3 colums:\n",
    "print(a[-2:,1:])"
   ]
  },
  {
   "cell_type": "markdown",
   "metadata": {},
   "source": [
    "*VERY IMPORTANT*: A slice of an array is a view into the same data, so modifying it will modify the original array."
   ]
  },
  {
   "cell_type": "code",
   "execution_count": 22,
   "metadata": {},
   "outputs": [
    {
     "name": "stdout",
     "output_type": "stream",
     "text": [
      "[[1 2 3]\n",
      " [4 5 6]] \n",
      "\n",
      "[4 5 6] \n",
      "\n",
      "[[ 1  2  3]\n",
      " [77  5  6]]\n"
     ]
    }
   ],
   "source": [
    "a= np.array([[1,2,3],[4,5,6]])\n",
    "print(a, '\\n')\n",
    "\n",
    "b = a[1,:]   # b is a slice of a\n",
    "print(b, '\\n')\n",
    "\n",
    "b[0] = 77    # b[0, 0] is the same piece of data as a[0, 1]\n",
    "\n",
    "print (a)"
   ]
  },
  {
   "cell_type": "markdown",
   "metadata": {},
   "source": [
    "When we changed that array b, we also changed the array a, becuase b is a slice of a, not an indpendent array. \n",
    "\n",
    "This is very different from integer intexing:"
   ]
  },
  {
   "cell_type": "code",
   "execution_count": 23,
   "metadata": {},
   "outputs": [
    {
     "name": "stdout",
     "output_type": "stream",
     "text": [
      "[[1 2 3]\n",
      " [4 5 6]] \n",
      "\n",
      "[4 5 6] \n",
      "\n",
      "[[1 2 3]\n",
      " [4 5 6]]\n"
     ]
    }
   ],
   "source": [
    "a= np.array([[1,2,3],[4,5,6]])\n",
    "print(a, '\\n')\n",
    "\n",
    "b = a[1,[0,1,2]]  # b is a new array, which copies values from a\n",
    "print(b, '\\n')\n",
    "\n",
    "b[0] = 77   \n",
    "\n",
    "print (a)"
   ]
  },
  {
   "cell_type": "markdown",
   "metadata": {},
   "source": [
    "This time, the array a does not change, because b is a different array."
   ]
  },
  {
   "cell_type": "markdown",
   "metadata": {},
   "source": [
    "<!-- <span style='color:green'> -->\n",
    "<div class=\"alert alert-block alert-info\">\n",
    "\n",
    "\n",
    "**Now You:** \n",
    "1. Create an array A that has the numbers from 12 to 20 (inclusive) in the first row and the numbers from 20 to 60 in skips of 5 in the second. What is the shape of this array? \n",
    "2. Create an array B has all the elements in the second row of A except the first and last. Make it such that  B[0]=-1 does not change array A.\n",
    "3. Create an array C has all the elements in the second row of A except the first and last. Make it such that  C[0]=-1 changes the array A."
   ]
  },
  {
   "cell_type": "markdown",
   "metadata": {},
   "source": [
    "### Datatypes"
   ]
  },
  {
   "cell_type": "markdown",
   "metadata": {},
   "source": [
    "Every numpy array is a grid of elements of the same type. Numpy provides a large set of numeric datatypes that you can use to construct arrays. Numpy tries to guess a datatype when you create an array, but functions that construct arrays usually also include an optional argument to explicitly specify the datatype. Here is an example:"
   ]
  },
  {
   "cell_type": "code",
   "execution_count": 24,
   "metadata": {},
   "outputs": [
    {
     "name": "stdout",
     "output_type": "stream",
     "text": [
      "[1 2]\n",
      "[1. 2.]\n",
      "[1. 2.]\n",
      "int64 float64 float64\n"
     ]
    }
   ],
   "source": [
    "x = np.array([1, 2])  # Let numpy choose the datatype\n",
    "y = np.array([1.0, 2.0])  # Let numpy choose the datatype\n",
    "z = np.array([1, 2], dtype=np.float64)  # Force a particular datatype\n",
    "\n",
    "print(x,y,z,sep='\\n')\n",
    "print (x.dtype, y.dtype, z.dtype)\n"
   ]
  },
  {
   "cell_type": "markdown",
   "metadata": {},
   "source": [
    "### Array math"
   ]
  },
  {
   "cell_type": "markdown",
   "metadata": {},
   "source": [
    "Basic mathematical functions operate elementwise on arrays, and are available both as operators and as functions."
   ]
  },
  {
   "cell_type": "code",
   "execution_count": 25,
   "metadata": {},
   "outputs": [
    {
     "name": "stdout",
     "output_type": "stream",
     "text": [
      "[[ 6.  8.]\n",
      " [10. 12.]]\n",
      "[[ 6.  8.]\n",
      " [10. 12.]]\n"
     ]
    }
   ],
   "source": [
    "M = np.array([[1,2],[3,4]], dtype=np.float64)\n",
    "K = np.array([[5,6],[7,8]], dtype=np.float64)\n",
    "\n",
    "# Elementwise sum; both produce the array\n",
    "print (M + K)\n",
    "print (np.add(M, K))"
   ]
  },
  {
   "cell_type": "code",
   "execution_count": 26,
   "metadata": {},
   "outputs": [
    {
     "name": "stdout",
     "output_type": "stream",
     "text": [
      "[[-4. -4.]\n",
      " [-4. -4.]]\n",
      "[[-4. -4.]\n",
      " [-4. -4.]]\n"
     ]
    }
   ],
   "source": [
    "# Elementwise difference\n",
    "print (M - K)\n",
    "print (np.subtract(M, K))"
   ]
  },
  {
   "cell_type": "code",
   "execution_count": 27,
   "metadata": {},
   "outputs": [
    {
     "name": "stdout",
     "output_type": "stream",
     "text": [
      "[[ 5. 12.]\n",
      " [21. 32.]]\n",
      "[[ 5. 12.]\n",
      " [21. 32.]]\n"
     ]
    }
   ],
   "source": [
    "# Elementwise product\n",
    "print (M * K)               # MATLAB USERS - note that this is elementwise multiplication\n",
    "print (np.multiply(M, K))"
   ]
  },
  {
   "cell_type": "code",
   "execution_count": 28,
   "metadata": {},
   "outputs": [
    {
     "name": "stdout",
     "output_type": "stream",
     "text": [
      "[[0.2        0.33333333]\n",
      " [0.42857143 0.5       ]]\n",
      "[[0.2        0.33333333]\n",
      " [0.42857143 0.5       ]]\n"
     ]
    }
   ],
   "source": [
    "# Elementwise division\n",
    "print (M / K)\n",
    "print (np.divide(M, K))"
   ]
  },
  {
   "cell_type": "code",
   "execution_count": 29,
   "metadata": {},
   "outputs": [
    {
     "name": "stdout",
     "output_type": "stream",
     "text": [
      "[[1.         1.41421356]\n",
      " [1.73205081 2.        ]]\n"
     ]
    }
   ],
   "source": [
    "# Elementwise square root\n",
    "print (np.sqrt(M))"
   ]
  },
  {
   "cell_type": "markdown",
   "metadata": {},
   "source": [
    "The opreator `*` is elementwise multiplication, not matrix multiplication. "
   ]
  },
  {
   "cell_type": "markdown",
   "metadata": {},
   "source": [
    "Numpy provides many useful functions for performing computations on arrays; here are just a few very useful ones:"
   ]
  },
  {
   "cell_type": "code",
   "execution_count": 30,
   "metadata": {},
   "outputs": [
    {
     "name": "stdout",
     "output_type": "stream",
     "text": [
      "[[1 2]\n",
      " [3 4]] \n",
      "\n",
      "10\n",
      "[4 6]\n",
      "[3 7]\n"
     ]
    }
   ],
   "source": [
    "M = np.array([[1,2],[3,4]])\n",
    "print(M,'\\n')\n",
    "\n",
    "print (np.sum(M))          # Compute sum of all elements\n",
    "print (np.sum(M, axis=0))  # Compute sum of each column\n",
    "print (np.sum(M, axis=1))  # Compute sum of each row"
   ]
  },
  {
   "cell_type": "code",
   "execution_count": 31,
   "metadata": {},
   "outputs": [
    {
     "name": "stdout",
     "output_type": "stream",
     "text": [
      "[2. 3.]\n",
      "[1. 1.]\n"
     ]
    }
   ],
   "source": [
    "print (np.mean(M, axis=0))  # Compute mean of each column\n",
    "print (np.std(M, axis=0))   # Compute standard deviation of each column"
   ]
  },
  {
   "cell_type": "code",
   "execution_count": 32,
   "metadata": {},
   "outputs": [
    {
     "name": "stdout",
     "output_type": "stream",
     "text": [
      "[ 2 12]\n"
     ]
    }
   ],
   "source": [
    "print (np.product(M,axis=1)) # Compute product of each row"
   ]
  },
  {
   "cell_type": "code",
   "execution_count": 33,
   "metadata": {},
   "outputs": [
    {
     "name": "stdout",
     "output_type": "stream",
     "text": [
      "[[ 1  3  6 10 15]\n",
      " [ 2  6 12 20 30]]\n",
      "[[   1    2    6   24  120]\n",
      " [   2    8   48  384 3840]]\n"
     ]
    }
   ],
   "source": [
    "a = np.array([[1,2,3,4,5],[\n",
    "    2,4,6,8,10]])\n",
    "\n",
    "print (a.cumsum(axis=1)) # computes all cummulative sums over the columns\n",
    "                         # same as np.cumsum(a,axis=0)\n",
    "    \n",
    "print (a.cumprod(axis=1)) # computes all cummulative products over the columns\n",
    "                         # same as np.cumprod(a,axis=0)\n",
    "    "
   ]
  },
  {
   "cell_type": "markdown",
   "metadata": {},
   "source": [
    "<!-- <span style='color:green'> -->\n",
    "<div class=\"alert alert-block alert-info\">\n",
    "\n",
    "\n",
    "**Now You:**\n",
    "\n",
    "1. Create an array that has 3 on the diagonal and 5 everywhere else. \n",
    "2. Create an 100x3 matrix that contains random numbers unifromly distributed between -2 and 3. Calculat the mean and standard deviations of every row every column."
   ]
  },
  {
   "cell_type": "code",
   "execution_count": 34,
   "metadata": {},
   "outputs": [
    {
     "name": "stdout",
     "output_type": "stream",
     "text": [
      "[1, 2, 3]\n"
     ]
    }
   ],
   "source": [
    "c = [1,2,3]\n",
    "print(c)"
   ]
  },
  {
   "cell_type": "markdown",
   "metadata": {},
   "source": [
    "### Concatenating and reshaping matrices"
   ]
  },
  {
   "cell_type": "markdown",
   "metadata": {},
   "source": [
    "### Mathematical functions"
   ]
  },
  {
   "cell_type": "markdown",
   "metadata": {},
   "source": [
    "Numpy provides many mathematical functions. When you apply these functions to an array, it will calculate the function for each element in the array, and return an array of the results of the same dimensions. "
   ]
  },
  {
   "cell_type": "code",
   "execution_count": 35,
   "metadata": {},
   "outputs": [
    {
     "name": "stdout",
     "output_type": "stream",
     "text": [
      "[-1.  -0.5  0.   0.5  1. ] \n",
      "\n",
      "[-0.84147098 -0.47942554  0.          0.47942554  0.84147098]\n",
      "[-0.76159416 -0.46211716  0.          0.46211716  0.76159416]\n",
      "[-1. -1.  0.  0.  1.]\n",
      "[0.36787944 0.60653066 1.         1.64872127 2.71828183]\n",
      "[1.  0.5 0.  0.5 1. ]\n"
     ]
    }
   ],
   "source": [
    "x = np.linspace(-1,1,5)\n",
    "\n",
    "print (x,'\\n')\n",
    "\n",
    "# trigonometric functions include sin, cos, tan, arcsin ...\n",
    "print(np.sin(x))\n",
    "\n",
    "# hyperbolic functions include sinh, cosh, tanh, arcsinh, ...\n",
    "print(np.tanh(x))\n",
    "\n",
    "# rounding functions include round, floor, ceil, rint, ...\n",
    "print(np.floor(x))\n",
    "\n",
    "# exponments and lograithms, including exp, exp2, log, log10, ... \n",
    "print(np.exp(x))\n",
    "\n",
    "# and many others, including sqrt, abs, sign, heaviside, ...\n",
    "print(np.abs(x))\n"
   ]
  },
  {
   "cell_type": "code",
   "execution_count": 36,
   "metadata": {},
   "outputs": [
    {
     "name": "stdout",
     "output_type": "stream",
     "text": [
      "[1.5 2.  1.5]\n",
      "[2 3 4]\n"
     ]
    }
   ],
   "source": [
    "# functions of two variables take two arrays of the same size, \n",
    "# and pair them element-wise\n",
    "\n",
    "x1 = np.array([6,6,12])\n",
    "x2 = np.array([4,3,8])\n",
    "\n",
    "print(np.divide(x1,x2))\n",
    "print(np.gcd(x1,x2))"
   ]
  },
  {
   "cell_type": "markdown",
   "metadata": {},
   "source": [
    "Numpy can also handle complex numbers"
   ]
  },
  {
   "cell_type": "code",
   "execution_count": 37,
   "metadata": {},
   "outputs": [
    {
     "name": "stdout",
     "output_type": "stream",
     "text": [
      "[2. 1. 0.] [0. 2. 3.]\n",
      "[2.-0.j 1.-2.j 0.-3.j] [0.         1.10714872 1.57079633]\n"
     ]
    }
   ],
   "source": [
    "z = np.array([2,1 + 2j, 3j])\n",
    "print(np.real(z),np.imag(z))\n",
    "print(np.conj(z),np.angle(z))"
   ]
  },
  {
   "cell_type": "markdown",
   "metadata": {},
   "source": [
    "A complete list of available functions can be found [here](https://numpy.org/doc/stable/reference/routines.math.html)"
   ]
  },
  {
   "cell_type": "markdown",
   "metadata": {},
   "source": [
    "### Linear Algebra"
   ]
  },
  {
   "cell_type": "markdown",
   "metadata": {},
   "source": [
    "Numpy provide many powerful linear algebra operations. \n",
    "\n",
    "We use the dot function to compute inner products of vectors, to multiply a vector by a matrix, and to multiply matrices. dot is available both as a function in the numpy module and as an method of array objects:"
   ]
  },
  {
   "cell_type": "code",
   "execution_count": 38,
   "metadata": {},
   "outputs": [
    {
     "name": "stdout",
     "output_type": "stream",
     "text": [
      "219\n",
      "219\n"
     ]
    }
   ],
   "source": [
    "M = np.array([[1,2],[3,4]])\n",
    "K = np.array([[5,6],[7,8]])\n",
    "\n",
    "v = np.array([9,10])\n",
    "w = np.array([11, 12])\n",
    "\n",
    "# Inner product of vectors\n",
    "print (v.dot(w))\n",
    "print (np.dot(v, w))"
   ]
  },
  {
   "cell_type": "code",
   "execution_count": 39,
   "metadata": {},
   "outputs": [
    {
     "name": "stdout",
     "output_type": "stream",
     "text": [
      "[29 67]\n",
      "[29 67]\n"
     ]
    }
   ],
   "source": [
    "# Matrix / vector product\n",
    "print (M.dot(v))\n",
    "print (np.dot(M, v))"
   ]
  },
  {
   "cell_type": "code",
   "execution_count": 40,
   "metadata": {},
   "outputs": [
    {
     "name": "stdout",
     "output_type": "stream",
     "text": [
      "[[19 22]\n",
      " [43 50]]\n",
      "[[19 22]\n",
      " [43 50]]\n"
     ]
    }
   ],
   "source": [
    "# Matrix / matrix product\n",
    "print (M.dot(K))\n",
    "print (np.dot(M, K))"
   ]
  },
  {
   "cell_type": "markdown",
   "metadata": {},
   "source": [
    "To transpose a matrix, simply use the T attribute of an array object:"
   ]
  },
  {
   "cell_type": "code",
   "execution_count": 41,
   "metadata": {},
   "outputs": [
    {
     "name": "stdout",
     "output_type": "stream",
     "text": [
      "[[1 2]\n",
      " [3 4]]\n",
      "[[1 3]\n",
      " [2 4]]\n"
     ]
    }
   ],
   "source": [
    "print (M)\n",
    "print (M.T)"
   ]
  },
  {
   "cell_type": "code",
   "execution_count": 42,
   "metadata": {},
   "outputs": [
    {
     "name": "stdout",
     "output_type": "stream",
     "text": [
      "[[1 2 3]]\n",
      "[[1]\n",
      " [2]\n",
      " [3]]\n"
     ]
    }
   ],
   "source": [
    "v = np.array([[1,2,3]])\n",
    "print (v) \n",
    "print (v.T)"
   ]
  },
  {
   "cell_type": "markdown",
   "metadata": {},
   "source": [
    "More advanced linear algebra can be found in the `linalg` subpackage of numpy. Here are some examples:"
   ]
  },
  {
   "cell_type": "code",
   "execution_count": 43,
   "metadata": {},
   "outputs": [
    {
     "name": "stdout",
     "output_type": "stream",
     "text": [
      "3.7416573867739413 \n",
      "\n",
      "[[-2.   1. ]\n",
      " [ 1.5 -0.5]] \n",
      "\n",
      "-2.0000000000000004 \n",
      "\n",
      "-2.0000000000000004 \n",
      "\n",
      "(array([-0.37228132,  5.37228132]), array([[-0.82456484, -0.41597356],\n",
      "       [ 0.56576746, -0.90937671]]))\n"
     ]
    }
   ],
   "source": [
    "# compute the norm of a vector\n",
    "print (np.linalg.norm(v),'\\n')\n",
    "\n",
    "# compute the inverse of a matrix\n",
    "print (np.linalg.inv(M),'\\n')\n",
    "\n",
    "# the Determinant of a matrix\n",
    "print (np.linalg.det(M),'\\n')\n",
    "\n",
    "# the Trace of a matrix\n",
    "print (np.linalg.det(M),'\\n')\n",
    "\n",
    "#Compute the eigenvalues and right eigenvectors of a square matrix.\n",
    "print(np.linalg.eig(M))"
   ]
  },
  {
   "cell_type": "markdown",
   "metadata": {},
   "source": [
    "The `linalg` pacage also provide some matrix decompositions (QR, SVD) and methods for solving linear equations. You can find out more [here](https://numpy.org/doc/stable/reference/routines.linalg.html)."
   ]
  },
  {
   "cell_type": "markdown",
   "metadata": {},
   "source": [
    "<!-- <span style='color:green'> -->\n",
    "<div class=\"alert alert-block alert-info\">\n",
    "\n",
    "\n",
    "**Now you:**\n",
    "\n",
    "1. Create a function `rot(t)` that returns a 2x2 rotation matrix at angle t. \n",
    "2. Check that a rotation by $3\\pi/2$ followed by a rotation by $\\pi/2$ leads to an identity matrix.\n",
    "3. Verify that a rotation by $\\pi/3$ does not change the metric of space by calculating the determinant of the corresponding matrix.\n",
    "4. Create a list that contains the rotations of the vector (-2,3) by $\\pi/5, 2\\pi/5 ... 2\\pi$."
   ]
  },
  {
   "cell_type": "markdown",
   "metadata": {},
   "source": [
    "## Numerical computation: roots, minima, and integrals"
   ]
  },
  {
   "cell_type": "markdown",
   "metadata": {},
   "source": [
    "scipy is the nerdy sister of numpy, providing methods useful in scientific computing such as numerical solutions of equations and integrals, optimization, image processing and more. Here we'll discuss  only the first among these, and return to other functionalities in other modules. \n",
    "\n",
    "scipy provides multiple algorithm for numerical solutions of algebratic equations. The wrapper for all these algorithms is the method `root_scalar` untder the optimize sub-module, where you can specify the algorithm you'd like to use. Depending on your algorithm of choice you may need to supply one or two initial guesses, or the first and maybe even the second derivative. You can also control the accepteable tolerance or limit the number of iterations."
   ]
  },
  {
   "cell_type": "code",
   "execution_count": 44,
   "metadata": {},
   "outputs": [
    {
     "data": {
      "text/plain": [
       "      converged: True\n",
       "           flag: 'converged'\n",
       " function_calls: 8\n",
       "     iterations: 7\n",
       "           root: -7.577959158745674e-14"
      ]
     },
     "execution_count": 44,
     "metadata": {},
     "output_type": "execute_result"
    }
   ],
   "source": [
    "from scipy.optimize import root_scalar, minimize_scalar\n",
    "\n",
    "def f(x):\n",
    "    return (x - 2) * x * (x + 2)**2\n",
    "\n",
    "# by default, using the Secant method\n",
    "root_scalar(f,x0=-3,x1=0.5) # exact answer is 0\n"
   ]
  },
  {
   "cell_type": "code",
   "execution_count": 45,
   "metadata": {},
   "outputs": [
    {
     "data": {
      "text/plain": [
       "      converged: True\n",
       "           flag: 'converged'\n",
       " function_calls: 10\n",
       "     iterations: 9\n",
       "           root: -2.0151772596676697e-18"
      ]
     },
     "execution_count": 45,
     "metadata": {},
     "output_type": "execute_result"
    }
   ],
   "source": [
    "# In many cases Brentq is the preferred method, although not really here\n",
    "root_scalar(f,bracket=[-3,0.5],method='brentq') # exact answer is 0"
   ]
  },
  {
   "cell_type": "markdown",
   "metadata": {},
   "source": [
    "We can find local minumum using `minimize_sclar`, which again provide interface to several diffent algorithms"
   ]
  },
  {
   "cell_type": "code",
   "execution_count": 46,
   "metadata": {},
   "outputs": [
    {
     "data": {
      "text/plain": [
       "     fun: -9.914949590828147\n",
       "    nfev: 15\n",
       "     nit: 11\n",
       " success: True\n",
       "       x: 1.2807764040333458"
      ]
     },
     "execution_count": 46,
     "metadata": {},
     "output_type": "execute_result"
    }
   ],
   "source": [
    "minimize_scalar(f)"
   ]
  },
  {
   "cell_type": "markdown",
   "metadata": {},
   "source": [
    "To solve a system of equation with multiple variable, we can use `roor` for polynomial equations and `fsolve` for non-polynomial equations."
   ]
  },
  {
   "cell_type": "code",
   "execution_count": 47,
   "metadata": {},
   "outputs": [
    {
     "name": "stdout",
     "output_type": "stream",
     "text": [
      "[1.11694147 0.82952422]\n"
     ]
    },
    {
     "data": {
      "text/plain": [
       "array([1.11694147, 0.82952422])"
      ]
     },
     "execution_count": 47,
     "metadata": {},
     "output_type": "execute_result"
    }
   ],
   "source": [
    "from scipy.optimize import root, fsolve\n",
    "\n",
    "def f(x):\n",
    "    return [x[1] - 3*x[0]*(x[0]+1)*(x[0]-1),\n",
    "            .25*x[0]**2 + x[1]**2 - 1]\n",
    "sol = root(f, (0.5, 0.5))\n",
    "print(sol.x)\n",
    "\n",
    "fsolve(f, (0.5, 0.5))"
   ]
  },
  {
   "cell_type": "markdown",
   "metadata": {},
   "source": [
    "<span style='color:green'>\n",
    "\n",
    "**Now you:** Solve the equations $\\sin(x)=2y,\\cos{x+y}=2$, and find a local minimum  of this function.\n",
    "\n"
   ]
  },
  {
   "cell_type": "markdown",
   "metadata": {},
   "source": [
    "## Ploting your data with Matplotlib"
   ]
  },
  {
   "cell_type": "markdown",
   "metadata": {},
   "source": [
    "Matplotlib is a plotting library. In this section give a brief introduction to the `matplotlib.pyplot` module, which provides a plotting system similar to that of MATLAB."
   ]
  },
  {
   "cell_type": "code",
   "execution_count": 48,
   "metadata": {},
   "outputs": [],
   "source": [
    "import matplotlib.pyplot as plt"
   ]
  },
  {
   "cell_type": "markdown",
   "metadata": {},
   "source": [
    "By running this special iPython magic, we will be displaying plots inside out notebook (this command is not included if you write a python script): "
   ]
  },
  {
   "cell_type": "code",
   "execution_count": 49,
   "metadata": {},
   "outputs": [],
   "source": [
    "%matplotlib inline"
   ]
  },
  {
   "cell_type": "markdown",
   "metadata": {},
   "source": [
    "### Plotting"
   ]
  },
  {
   "cell_type": "markdown",
   "metadata": {},
   "source": [
    "The most important function in `matplotlib` is plot, which allows you to plot 2D data. Here is a simple example:"
   ]
  },
  {
   "cell_type": "code",
   "execution_count": 50,
   "metadata": {},
   "outputs": [
    {
     "data": {
      "text/plain": [
       "[<matplotlib.lines.Line2D at 0x7ff88ef438b0>]"
      ]
     },
     "execution_count": 50,
     "metadata": {},
     "output_type": "execute_result"
    },
    {
     "data": {
      "image/png": "[encoded data removed]",
      "text/plain": [
       "<Figure size 432x288 with 1 Axes>"
      ]
     },
     "metadata": {
      "needs_background": "light"
     },
     "output_type": "display_data"
    }
   ],
   "source": [
    "# Compute the x and y coordinates for points on a sine curve\n",
    "x = np.arange(0, 3 * np.pi, 0.1)\n",
    "y = np.sin(x)\n",
    "\n",
    "# Plot the points using matplotlib\n",
    "plt.plot(x, y)"
   ]
  },
  {
   "cell_type": "markdown",
   "metadata": {},
   "source": [
    "With just a little bit of extra work we can easily plot multiple lines at once, and add a title, legend, and axis labels:"
   ]
  },
  {
   "cell_type": "code",
   "execution_count": 51,
   "metadata": {},
   "outputs": [
    {
     "data": {
      "text/plain": [
       "<matplotlib.legend.Legend at 0x7ff88f032100>"
      ]
     },
     "execution_count": 51,
     "metadata": {},
     "output_type": "execute_result"
    },
    {
     "data": {
      "image/png": "[encoded data removed]",
      "text/plain": [
       "<Figure size 432x288 with 1 Axes>"
      ]
     },
     "metadata": {
      "needs_background": "light"
     },
     "output_type": "display_data"
    }
   ],
   "source": [
    "y_sin = np.sin(x)\n",
    "y_cos = np.cos(x)\n",
    "\n",
    "# Plot the points using matplotlib\n",
    "plt.plot(x, y_sin)\n",
    "plt.plot(x, y_cos)\n",
    "plt.xlabel('x axis label')\n",
    "plt.ylabel('y axis label')\n",
    "plt.title('Sine and Cosine')\n",
    "plt.legend(['Sine', 'Cosine'])"
   ]
  },
  {
   "cell_type": "markdown",
   "metadata": {},
   "source": [
    "We can easily turn this into a scatter plot:"
   ]
  },
  {
   "cell_type": "code",
   "execution_count": 52,
   "metadata": {},
   "outputs": [
    {
     "data": {
      "text/plain": [
       "[<matplotlib.lines.Line2D at 0x7ff88f195610>]"
      ]
     },
     "execution_count": 52,
     "metadata": {},
     "output_type": "execute_result"
    },
    {
     "data": {
      "image/png": "[encoded data removed]",
      "text/plain": [
       "<Figure size 432x288 with 1 Axes>"
      ]
     },
     "metadata": {
      "needs_background": "light"
     },
     "output_type": "display_data"
    }
   ],
   "source": [
    "x = np.linspace(0,2 * np.pi,10)\n",
    "y_sin = np.sin(x)\n",
    "\n",
    "plt.plot(x,y_sin,'o')"
   ]
  },
  {
   "cell_type": "markdown",
   "metadata": {},
   "source": [
    "or, even nicer:"
   ]
  },
  {
   "cell_type": "code",
   "execution_count": 53,
   "metadata": {},
   "outputs": [
    {
     "data": {
      "text/plain": [
       "<StemContainer object of 3 artists>"
      ]
     },
     "execution_count": 53,
     "metadata": {},
     "output_type": "execute_result"
    },
    {
     "data": {
      "image/png": "[encoded data removed]",
      "text/plain": [
       "<Figure size 432x288 with 1 Axes>"
      ]
     },
     "metadata": {
      "needs_background": "light"
     },
     "output_type": "display_data"
    }
   ],
   "source": [
    "plt.stem(x,y_sin)"
   ]
  },
  {
   "cell_type": "markdown",
   "metadata": {},
   "source": [
    "Even better, we can manipulate the size and color of each symbol to add more information:"
   ]
  },
  {
   "cell_type": "code",
   "execution_count": 54,
   "metadata": {},
   "outputs": [
    {
     "data": {
      "text/plain": [
       "<matplotlib.collections.PathCollection at 0x7ff88f315fa0>"
      ]
     },
     "execution_count": 54,
     "metadata": {},
     "output_type": "execute_result"
    },
    {
     "data": {
      "image/png": "[encoded data removed]",
      "text/plain": [
       "<Figure size 432x288 with 1 Axes>"
      ]
     },
     "metadata": {
      "needs_background": "light"
     },
     "output_type": "display_data"
    }
   ],
   "source": [
    "x = np.linspace(0,2 * np.pi,10)\n",
    "y_sin = np.sin(x)\n",
    "s_abs = 30+np.abs(y_sin)*100 # will be used below to set marker area, in points**2 \n",
    "c_cos = np.cos(x)            # will be used to set color; \n",
    "                             # colors are picked automatically to reflect the range\n",
    "\n",
    "plt.scatter(x,y_sin,s=s_abs,c=c_cos)"
   ]
  },
  {
   "cell_type": "markdown",
   "metadata": {},
   "source": [
    "You can visualize a 2d array in many ways. First, let's show the actual values (witha color bar to see how values are mapped to colors)"
   ]
  },
  {
   "cell_type": "code",
   "execution_count": 55,
   "metadata": {},
   "outputs": [
    {
     "data": {
      "text/plain": [
       "<matplotlib.colorbar.Colorbar at 0x7ff88f4b42e0>"
      ]
     },
     "execution_count": 55,
     "metadata": {},
     "output_type": "execute_result"
    },
    {
     "data": {
      "image/png": "[encoded data removed]",
      "text/plain": [
       "<Figure size 432x288 with 2 Axes>"
      ]
     },
     "metadata": {
      "needs_background": "light"
     },
     "output_type": "display_data"
    }
   ],
   "source": [
    "a=np.fromfunction(lambda x,y: x**2+y**2,(30,30))\n",
    "plt.imshow(a)\n",
    "plt.colorbar()"
   ]
  },
  {
   "cell_type": "markdown",
   "metadata": {},
   "source": [
    "Add a color bar, to see how values are mapped to colors"
   ]
  },
  {
   "cell_type": "markdown",
   "metadata": {},
   "source": [
    "You can play with the colormap choosing one of [many standard maps](https://matplotlib.org/stable/tutorials/colors/colormaps.html) (or, if needed, by creating a color map of your own)."
   ]
  },
  {
   "cell_type": "code",
   "execution_count": 56,
   "metadata": {},
   "outputs": [
    {
     "data": {
      "text/plain": [
       "<matplotlib.image.AxesImage at 0x7ff88f5b18b0>"
      ]
     },
     "execution_count": 56,
     "metadata": {},
     "output_type": "execute_result"
    },
    {
     "data": {
      "image/png": "[encoded data removed]",
      "text/plain": [
       "<Figure size 432x288 with 1 Axes>"
      ]
     },
     "metadata": {
      "needs_background": "light"
     },
     "output_type": "display_data"
    }
   ],
   "source": [
    "plt.imshow(a,cmap='RdBu')"
   ]
  },
  {
   "cell_type": "markdown",
   "metadata": {},
   "source": [
    "Or you can create a countour plot. "
   ]
  },
  {
   "cell_type": "code",
   "execution_count": 57,
   "metadata": {},
   "outputs": [
    {
     "data": {
      "text/plain": [
       "(0.0, 29.0, 0.0, 29.0)"
      ]
     },
     "execution_count": 57,
     "metadata": {},
     "output_type": "execute_result"
    },
    {
     "data": {
      "image/png": "[encoded data removed]",
      "text/plain": [
       "<Figure size 432x288 with 1 Axes>"
      ]
     },
     "metadata": {
      "needs_background": "light"
     },
     "output_type": "display_data"
    }
   ],
   "source": [
    "plt.contourf( a, cmap=plt.cm.RdPu)\n",
    "plt.axis('square')"
   ]
  },
  {
   "cell_type": "markdown",
   "metadata": {},
   "source": [
    "Finally, let's create some random data sets, and plot their histograms"
   ]
  },
  {
   "cell_type": "code",
   "execution_count": 58,
   "metadata": {},
   "outputs": [
    {
     "data": {
      "image/png": "[encoded data removed]",
      "text/plain": [
       "<Figure size 432x288 with 1 Axes>"
      ]
     },
     "metadata": {
      "needs_background": "light"
     },
     "output_type": "display_data"
    }
   ],
   "source": [
    "xs = [np.random.normal(mu, 0.5, (100)) for mu in range(5)] # Creates 5 samples from normal distributions with different means\n",
    "for x in xs:\n",
    "    plt.hist(x, bins=15, alpha=0.4) # the alpha parameter is what makes the histrograms semi-transparent"
   ]
  },
  {
   "cell_type": "markdown",
   "metadata": {},
   "source": [
    "### Multiple plots "
   ]
  },
  {
   "cell_type": "markdown",
   "metadata": {},
   "source": [
    "You can plot different things in the same figure using the subplot function. Here is an example:"
   ]
  },
  {
   "cell_type": "code",
   "execution_count": 59,
   "metadata": {},
   "outputs": [
    {
     "data": {
      "image/png": "[encoded data removed]",
      "text/plain": [
       "<Figure size 360x576 with 2 Axes>"
      ]
     },
     "metadata": {
      "needs_background": "light"
     },
     "output_type": "display_data"
    }
   ],
   "source": [
    "# Compute the x and y coordinates for points on sine and cosine curves\n",
    "x = np.arange(0, 3 * np.pi, 0.1)\n",
    "y_sin = np.sin(x)\n",
    "y_cos = np.cos(x)\n",
    "\n",
    "# Set up a subplot grid that has height 2 and width 1\n",
    "# f is a handle for the figure; ax is a tuple that holds the different axes\n",
    "# you can use this oportunity to set some properties of the figure, like it's size\n",
    "f, ax = plt.subplots(2, 1,figsize=(5,8))\n",
    "\n",
    "# Make the first plot\n",
    "ax[0].plot(x, y_sin)\n",
    "ax[0].set_title('Sine')\n",
    "\n",
    "ax[1].plot(x, y_cos)\n",
    "ax[1].set_title('Cosine')\n",
    "\n",
    "f.tight_layout(pad=3.0) # this provides some space between subplots"
   ]
  },
  {
   "cell_type": "markdown",
   "metadata": {},
   "source": [
    "You can set many properties of the figure and axes, including the scale (log or linear), the aspect ratio, the location of the grid and more. Here are a couple of example, more info is [here](https://matplotlib.org/3.1.1/api/axes_api.html)"
   ]
  },
  {
   "cell_type": "code",
   "execution_count": 60,
   "metadata": {},
   "outputs": [
    {
     "data": {
      "image/png": "[encoded data removed]",
      "text/plain": [
       "<Figure size 648x216 with 3 Axes>"
      ]
     },
     "metadata": {
      "needs_background": "light"
     },
     "output_type": "display_data"
    }
   ],
   "source": [
    "x = np.logspace(0, 4, 20)\n",
    "y = np.power(x,2.5)\n",
    "\n",
    "f, ax = plt.subplots(1,3,figsize=(9,3))\n",
    "ax[0].scatter(x,y)\n",
    "\n",
    "ax[1].scatter(x,y)\n",
    "ax[1].set_xscale('log')\n",
    "ax[1].set_yscale('log')\n",
    "\n",
    "ax[2].scatter(x,2*x)\n",
    "ax[2].set_aspect('equal',adjustable='box')\n",
    "\n",
    "f.tight_layout(pad=3.0) # this provides some space between subplots"
   ]
  },
  {
   "cell_type": "markdown",
   "metadata": {},
   "source": [
    "Some more advanced plotting of data are discussed in Module # (Data handling with Pandas)"
   ]
  }
 ],
 "metadata": {
  "kernelspec": {
   "display_name": "Python 3",
   "language": "python",
   "name": "python3"
  },
  "language_info": {
   "codemirror_mode": {
    "name": "ipython",
    "version": 3
   },
   "file_extension": ".py",
   "mimetype": "text/x-python",
   "name": "python",
   "nbconvert_exporter": "python",
   "pygments_lexer": "ipython3",
   "version": "3.8.5"
  }
 },
 "nbformat": 4,
 "nbformat_minor": 4
}
