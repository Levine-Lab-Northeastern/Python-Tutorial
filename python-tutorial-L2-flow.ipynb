{
 "cells": [
  {
   "cell_type": "markdown",
   "metadata": {},
   "source": [
    "## Module 2: Flow control"
   ]
  },
  {
   "cell_type": "markdown",
   "metadata": {},
   "source": [
    "A traditional program (or a script) always start at the begining and ends at the end. On the way from start to finish, there may be some points when we may need to choose between several alternatives, we may want to skip some parts and repeat others. In other words, we may need to control the flow of our program. "
   ]
  },
  {
   "cell_type": "markdown",
   "metadata": {},
   "source": [
    "### The if statement\n",
    "\n",
    "The most basic flow-control operation is the binary choice: if a certain condition is met, we want to do one thing, otherwise we want do another thing (or nothing). This is achived with the <code>if<\\code> statement:"
   ]
  },
  {
   "cell_type": "code",
   "execution_count": 1,
   "metadata": {},
   "outputs": [
    {
     "name": "stdout",
     "output_type": "stream",
     "text": [
      "done.\n"
     ]
    }
   ],
   "source": [
    "a = 5\n",
    "if a>5:\n",
    "    print (a)\n",
    "    print ('is it larger than 5!')\n",
    "print('done.')"
   ]
  },
  {
   "cell_type": "markdown",
   "metadata": {},
   "source": [
    "Pretty simple, right? the architects of python had done their best to make the python code as readable and self-explanatory as possible. Pay attention to the colon at the end of the if condition, it marks the begining of the code that needs to be executed if the condition is met.\n",
    "\n",
    "Go ahead and change the value of a to 3. Execute the cell again, and see what happens.\n",
    "\n",
    "The most important thing to notice here is the indentation. All lines that have the same indentation belong to the same code block. This is why the first two print lines fall under the if condition, but the last one does not.\n",
    "\n",
    "Try this:"
   ]
  },
  {
   "cell_type": "code",
   "execution_count": 2,
   "metadata": {},
   "outputs": [
    {
     "name": "stdout",
     "output_type": "stream",
     "text": [
      "7\n",
      "is it larger than 5!\n",
      "done.\n"
     ]
    }
   ],
   "source": [
    "a = 7\n",
    "if a>5:\n",
    "    print (a)\n",
    "    print ('is it larger than 5!')\n",
    "    print('done.')"
   ]
  },
  {
   "cell_type": "markdown",
   "metadata": {},
   "source": [
    "The only difference is that the last line now have the same indentation. It therefore belongs to the same code block as the first two print lines, and falls under the if clause. \n",
    "\n",
    "<span style='color:green'>\n",
    "\n",
    "**Now You:**\n",
    "Let <code>s = {1:'one', 2:'two', 4:'four'}</code>, and suppose that j is a variable that holds some integer. Use the dictionary s to print the value of the key j, but only if j is one of the keys in s.\n",
    "    \n",
    "[Remember: if you click this cell and press b you will open a new cell below  where you can perform this task]</span>"
   ]
  },
  {
   "cell_type": "markdown",
   "metadata": {},
   "source": [
    "In the example above, the print lines are executed if the condition is met. Nothing else happends if it doesn't. We can change that by adding an alternative action:"
   ]
  },
  {
   "cell_type": "code",
   "execution_count": 3,
   "metadata": {},
   "outputs": [
    {
     "name": "stdout",
     "output_type": "stream",
     "text": [
      "It is too small to care\n",
      "done.\n"
     ]
    }
   ],
   "source": [
    "a = 4\n",
    "if a>5:\n",
    "    print (a)\n",
    "    print ('is it larger than 5!')\n",
    "else:\n",
    "    print ('It is too small to care')\n",
    "print('done.')"
   ]
  },
  {
   "cell_type": "markdown",
   "metadata": {},
   "source": [
    "Again, try running this code with different values for a (say, 5 or 7). Make sure you understand what's going on (especifally, why \"done.\" appears always).\n",
    "\n",
    "<!-- <span style='color:green'> -->\n",
    "<div class=\"alert alert-block alert-info\">\n",
    "\n",
    "**Now you:** Go back to the exercise above, and this time if j is not one of the keys in s print \"The key # could not be found\" (where # of course is the value of j)."
   ]
  },
  {
   "cell_type": "markdown",
   "metadata": {},
   "source": [
    "We can now generalize to more choices."
   ]
  },
  {
   "cell_type": "code",
   "execution_count": 4,
   "metadata": {},
   "outputs": [
    {
     "name": "stdout",
     "output_type": "stream",
     "text": [
      "mehh, that's not very big\n"
     ]
    }
   ],
   "source": [
    "a = 7\n",
    "if a>10:\n",
    "    print ('wow, really big number')\n",
    "elif a>5: \n",
    "    print (\"mehh, that's not very big\")\n",
    "else:\n",
    "    print ('real small number')"
   ]
  },
  {
   "cell_type": "markdown",
   "metadata": {},
   "source": [
    "Read <code>elif</code> as \"else if\", and it will all make sense. Try running this with different a's, just to make sure you know what's happening. "
   ]
  },
  {
   "cell_type": "markdown",
   "metadata": {},
   "source": [
    "<!-- <span style='color:green'> -->\n",
    "<div class=\"alert alert-block alert-info\">\n",
    "\n",
    "**now you:**\n",
    "\n",
    "1. Go back to the previous cell, and change it such that for numbers larger than 20 it will pring \"OMG\", for not very big numbers it will also <code>print(a)</code>, for small numbers if will <code>print (a/2)</code>, and at the end it will always print \"The END\".\n",
    "\n",
    "2. Let <code>neu=['N','E','U']</code>. Write a new block of code which prints 'N' if 'N' appears in neu, and 'U' if 'U' appears in neu. The write another block of code that prints 'N' if 'N' appears in new, and prints 'U' if 'U' appears in neu but 'N' doesn't. Make sure you understand the difference between these two cases. "
   ]
  },
  {
   "cell_type": "markdown",
   "metadata": {},
   "source": [
    "### Iteration (for loops)"
   ]
  },
  {
   "cell_type": "markdown",
   "metadata": {},
   "source": [
    "Suppose that we have a (long) list, and we want to perform some operation on every one of its elements (for example, to print it). We certainly don't want to type lines like <code>print (ol[1])</code> many many times. \n",
    "    \n",
    "Instead, we would like to iterate over the eleemtns of the list, performing in each iteration the same task on a different element. Here is how it's done:"
   ]
  },
  {
   "cell_type": "code",
   "execution_count": 5,
   "metadata": {},
   "outputs": [
    {
     "name": "stdout",
     "output_type": "stream",
     "text": [
      "one\n",
      "two\n",
      "three\n",
      "four\n"
     ]
    }
   ],
   "source": [
    "ol = ['one','two','three','four']\n",
    "\n",
    "for el in ol:\n",
    "    print(el)"
   ]
  },
  {
   "cell_type": "markdown",
   "metadata": {},
   "source": [
    "This for loop iterates over the elements of the list in order. We could also iterate over the keys of a dictionary:"
   ]
  },
  {
   "cell_type": "code",
   "execution_count": 6,
   "metadata": {},
   "outputs": [
    {
     "name": "stdout",
     "output_type": "stream",
     "text": [
      "A person has 2 legs\n",
      "A cat has 4 legs\n",
      "A spider has 8 legs\n"
     ]
    }
   ],
   "source": [
    "d = {'person': 2, 'cat': 4, 'spider': 8}\n",
    "for animal in d:\n",
    "    legs = d[animal]\n",
    "    print ('A %s has %d legs' % (animal, legs))"
   ]
  },
  {
   "cell_type": "markdown",
   "metadata": {},
   "source": [
    "Notice the indentation again: the two last lines have the same indentation, which means that they are one code block. The whole block is exectured in each iteration. \n",
    "\n",
    "You could simialrly iterate over a set, but be aware that the order of these iterations is not guranteed (since a set, by definition, is not ordered).\n",
    "\n",
    "Many times it is useful to have a counter for the iterations performed. This is easily achived with the <code>enumerate</code> function: \n"
   ]
  },
  {
   "cell_type": "code",
   "execution_count": 7,
   "metadata": {},
   "outputs": [
    {
     "name": "stdout",
     "output_type": "stream",
     "text": [
      "element #0 is one\n",
      "element #1 is two\n",
      "element #2 is three\n",
      "element #3 is four\n"
     ]
    }
   ],
   "source": [
    "for count, el in enumerate(ol):\n",
    "    print ('element #{} is {}'.format(count,el)) "
   ]
  },
  {
   "cell_type": "markdown",
   "metadata": {},
   "source": [
    "<!-- <span style='color:green'> -->\n",
    "<div class=\"alert alert-block alert-info\">\n",
    "\n",
    "**Now You:**\n",
    "1. Let <code>list1 = ['Jacob', 'Isaac', 'Abraham']</code>. Print the length of each string, then print 'Done.' at the end. \n",
    "\n",
    "2. Let <code>list2 = [12, 15, 32, 42, 55, 75, 122, 132, 150, 180, 200]</code>\n",
    "Iterate over this list, and print only the numbers that are divisible by 5.\n",
    "\n"
   ]
  },
  {
   "cell_type": "markdown",
   "metadata": {},
   "source": [
    "#### The range function\n",
    "\n",
    "This function returns a sequence of integers you can iterate over. Its full syntax is \n",
    "<code>range(start,stop,step)</code> which give a sequence of integers in the range [start,stop) (that is, including start but excluding stop), with a distance \"step\" between consecutive numbers.\n",
    "If you don't specify start, the sequence starts at 0, and if you don't specify step the step is 1."
   ]
  },
  {
   "cell_type": "code",
   "execution_count": 8,
   "metadata": {},
   "outputs": [
    {
     "name": "stdout",
     "output_type": "stream",
     "text": [
      "0,1,2,3,4,5,6,7,8,9,\n",
      "3,5,7,\n",
      "10,9,8,7,6,"
     ]
    }
   ],
   "source": [
    "for i in range(10):\n",
    "    print(i, end=',')\n",
    "\n",
    "print()\n",
    "\n",
    "for j in range(3,9,2):\n",
    "    print(j,end=',')\n",
    "    \n",
    "print()\n",
    "\n",
    "for j in range(10,5,-1):\n",
    "    print(j,end=',')\n"
   ]
  },
  {
   "cell_type": "markdown",
   "metadata": {},
   "source": [
    "(in passing, notice the added argument to the print() function which makes it end with ',' rather than a new line)\n",
    "\n"
   ]
  },
  {
   "cell_type": "markdown",
   "metadata": {},
   "source": [
    "<!-- <span style='color:green'> -->\n",
    "<div class=\"alert alert-block alert-info\">\n",
    "\n",
    "**Now you:**\n",
    "1. Use the range function to print the elements of list2 above in the reverse order.\n",
    "2. Suppose that the variable n holds an integer larger than 1. Use the range function to calculate n! (n factorial). "
   ]
  },
  {
   "cell_type": "markdown",
   "metadata": {},
   "source": [
    "#### Break and continue\n",
    "\n",
    "It happens a lot that at some point during a loop you lose your intertia and you just want to get out. The command <code>break</code> will do that for you. Typically you will use it inside a condition - if the condition is met, you stop the loop and move on. Here's an example:"
   ]
  },
  {
   "cell_type": "code",
   "execution_count": 9,
   "metadata": {},
   "outputs": [
    {
     "name": "stdout",
     "output_type": "stream",
     "text": [
      "element #6 is the first one that is larger than 100.\n"
     ]
    }
   ],
   "source": [
    "list2 = [12, 15, 32, 42, 55, 75, 122, 132, 150, 180, 200]\n",
    "\n",
    "# finding the first element in a list that is larger than 100:\n",
    "for count, el in enumerate(list2):\n",
    "    if el>100:\n",
    "        print('element #{} is the first one that is larger than 100.'.format(count))\n",
    "        break"
   ]
  },
  {
   "cell_type": "markdown",
   "metadata": {},
   "source": [
    "Just to make sure, ask yourself:\n",
    "1. What happens it we remove the break statement? Try it!\n",
    "2. What happens if we change the indentation of the break command, and bring it back to the same level as the if statement? Try that too!"
   ]
  },
  {
   "cell_type": "markdown",
   "metadata": {},
   "source": [
    "<span style='color:green'>\n",
    "\n",
    "**Now you:**\n",
    "Suppose that the variable n holds an integer larger than 2. Check if this number is a prime by checking that it is not dividible by any number smaller than it. Use the <code>break</code> command to make your code more efficient."
   ]
  },
  {
   "cell_type": "markdown",
   "metadata": {},
   "source": [
    "The less-popular sister of break is continue. This happens when you are working on a particular iteration, and for some reason you just want to move on to the next one. Just like break, this also mostly happens within an if statement. For example:"
   ]
  },
  {
   "cell_type": "code",
   "execution_count": 10,
   "metadata": {},
   "outputs": [
    {
     "name": "stdout",
     "output_type": "stream",
     "text": [
      "32\n",
      "55\n",
      "122\n",
      "200\n"
     ]
    }
   ],
   "source": [
    "# print all numbers in the list, except those divisible by 3\n",
    "for el in list2:\n",
    "    if (el %3 ==0):\n",
    "        continue\n",
    "    print(el)"
   ]
  },
  {
   "cell_type": "markdown",
   "metadata": {},
   "source": [
    "#### List comprehensions:"
   ]
  },
  {
   "cell_type": "markdown",
   "metadata": {},
   "source": [
    "When programming, frequently we want to transform one type of data into another. As a simple example, consider the following code that computes square numbers:"
   ]
  },
  {
   "cell_type": "code",
   "execution_count": 11,
   "metadata": {},
   "outputs": [
    {
     "name": "stdout",
     "output_type": "stream",
     "text": [
      "[0, 1, 4, 9, 16]\n"
     ]
    }
   ],
   "source": [
    "nums = range(5)\n",
    "squares = []\n",
    "for x in nums:\n",
    "    squares.append(x ** 2)\n",
    "print (squares)"
   ]
  },
  {
   "cell_type": "markdown",
   "metadata": {},
   "source": [
    "You can make this code simpler using a list comprehension:"
   ]
  },
  {
   "cell_type": "code",
   "execution_count": 12,
   "metadata": {},
   "outputs": [
    {
     "name": "stdout",
     "output_type": "stream",
     "text": [
      "[0, 1, 4, 9, 16]\n"
     ]
    }
   ],
   "source": [
    "squares = [x ** 2 for x in nums]\n",
    "print (squares)"
   ]
  },
  {
   "cell_type": "markdown",
   "metadata": {},
   "source": [
    "List comprehensions can also contain conditions:"
   ]
  },
  {
   "cell_type": "code",
   "execution_count": 13,
   "metadata": {},
   "outputs": [
    {
     "name": "stdout",
     "output_type": "stream",
     "text": [
      "[0, 4, 16]\n"
     ]
    }
   ],
   "source": [
    "even_squares = [x ** 2 for x in nums if x % 2 == 0]\n",
    "print (even_squares)"
   ]
  },
  {
   "cell_type": "markdown",
   "metadata": {},
   "source": [
    "<!-- <span style='color:green'> -->\n",
    "<div class=\"alert alert-block alert-info\">\n",
    "\n",
    "\n",
    "**Now you:**\n",
    "Let <code>d={1:'one',2:'two',4:'four',7:'seven'}</code> and <code>u=[1,2,3,6,7,8]</code>.\n",
    "Use list comperhansion to create a list with the names of the numbers in u, skipping those  that do not appear in the dictionary d."
   ]
  },
  {
   "cell_type": "markdown",
   "metadata": {},
   "source": [
    "#### Nested loops\n",
    "\n",
    "Suppose that you want to iterate over all the elements of a matrix. You do this by iterating over the rows, and for each row you iterate over all the columns. This is one example of nested loops: inside the loop over rows there is another loop over columns. \n",
    "\n",
    "Here's another example: let's say to you organize a minor basketball league, and you want to list all the matches. Every team gets to meet every other team at home and away. You iterate over the list of teams to assign the home teams, and for every home team you iterate over the all the teams to assign an away team.\n"
   ]
  },
  {
   "cell_type": "code",
   "execution_count": 14,
   "metadata": {},
   "outputs": [
    {
     "name": "stdout",
     "output_type": "stream",
     "text": [
      "[('baby celtics', 'baby heat'), ('baby celtics', 'baby lakers'), ('baby celtics', 'baby thunders'), ('baby heat', 'baby celtics'), ('baby heat', 'baby lakers'), ('baby heat', 'baby thunders'), ('baby lakers', 'baby celtics'), ('baby lakers', 'baby heat'), ('baby lakers', 'baby thunders'), ('baby thunders', 'baby celtics'), ('baby thunders', 'baby heat'), ('baby thunders', 'baby lakers')]\n"
     ]
    }
   ],
   "source": [
    "teams = ['baby celtics', 'baby heat', 'baby lakers', 'baby thunders']\n",
    "games = []\n",
    "for home_team in teams:\n",
    "    for away_team in teams:\n",
    "        if home_team is not away_team:\n",
    "            games.append((home_team,away_team))\n",
    "print(games)"
   ]
  },
  {
   "cell_type": "markdown",
   "metadata": {},
   "source": [
    "<!-- <span style='color:green'> -->\n",
    "<div class=\"alert alert-block alert-info\">\n",
    "\n",
    "**Now you:**\n",
    "1. Write nested loops that prints\n",
    "<pre>\n",
    "    1\n",
    "    22\n",
    "    333\n",
    "    4444\n",
    "</pre>\n",
    "etc for 9 lines. \n",
    "\n",
    "2. Suppose that nl is a list of lists, also known as a nested list. For example, nl could be [[1,2],[8,9,10],[11,12]]. Write a nested loop that prints the squares of the elements of each list on a different line. Do not assume the length of the lists, instead use something like <code>range(len(el))</code>.\n",
    "\n",
    "3. Repeat the taks of item 2, but this time use list comprehansion instead of a nested loop."
   ]
  },
  {
   "cell_type": "markdown",
   "metadata": {},
   "source": [
    "### The while loop"
   ]
  },
  {
   "cell_type": "markdown",
   "metadata": {},
   "source": [
    "Some time you want to perform some task mutiple times, and only stop when some condition is met. The `while` loop is here for these tasks:"
   ]
  },
  {
   "cell_type": "code",
   "execution_count": 15,
   "metadata": {},
   "outputs": [
    {
     "name": "stdout",
     "output_type": "stream",
     "text": [
      "[16, 8.0, 4.0, 2.0]\n"
     ]
    }
   ],
   "source": [
    "x=16\n",
    "over_twos = []\n",
    "while (x>1):\n",
    "    over_twos.append(x)\n",
    "    x /= 2\n",
    "    \n",
    "print (over_twos)\n",
    "    "
   ]
  },
  {
   "cell_type": "markdown",
   "metadata": {},
   "source": [
    "The code block under the `while` command is repeated as long as the logical clause is True. Make sure you understand why the over_twos ended with 2,0 and not with 1.0. Can you add a single character to the code to change that? \n",
    "\n",
    "The danger in a `while` loop is that some times the condition never stops being true. For example "
   ]
  },
  {
   "cell_type": "markdown",
   "metadata": {},
   "source": [
    "```python\n",
    "while (x>0):\n",
    "    x += 1\n",
    "    print (x)\n",
    "```"
   ]
  },
  {
   "cell_type": "markdown",
   "metadata": {},
   "source": [
    "This is called an inifinite loop (for obvious reasons). It is not always this easy to see that a loop could become infinite. "
   ]
  },
  {
   "cell_type": "markdown",
   "metadata": {},
   "source": [
    "<!-- <span style='color:green'> -->\n",
    "<div class=\"alert alert-block alert-info\">\n",
    "\n",
    "\n",
    "**Now You:**\n",
    "1. Use the method pop() to write a while loop that prints the last element in a list that is >100\n",
    "2. Suppose that you are provided with a function random() which returns a random number in the range \\[0,1), and with a variable V that holds some floating-point number. Write a while loop that draws random numbers and prints the first one that is larger than V. Under what condition will this loop become an inifinite loop? \n",
    "(if you want to check your code, start with the line `from random import random`. This is explained in Module 4.) "
   ]
  }
 ],
 "metadata": {
  "kernelspec": {
   "display_name": "Python 3",
   "language": "python",
   "name": "python3"
  },
  "language_info": {
   "codemirror_mode": {
    "name": "ipython",
    "version": 3
   },
   "file_extension": ".py",
   "mimetype": "text/x-python",
   "name": "python",
   "nbconvert_exporter": "python",
   "pygments_lexer": "ipython3",
   "version": "3.8.5"
  }
 },
 "nbformat": 4,
 "nbformat_minor": 4
}
